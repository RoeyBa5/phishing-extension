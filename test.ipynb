{
 "cells": [
  {
   "cell_type": "code",
   "id": "initial_id",
   "metadata": {
    "collapsed": true,
    "ExecuteTime": {
     "end_time": "2025-05-16T19:49:53.092952Z",
     "start_time": "2025-05-16T19:49:53.048956Z"
    }
   },
   "source": [
    "import pandas as pd\n",
    "\n",
    "all_urls = pd.read_csv(\"test_data.csv\")\n",
    "handled = pd.read_csv(\"results.csv\")\n",
    "to_handle = all_urls[~all_urls[\"url\"].isin(handled[\"URL\"])]\n",
    "to_handle.to_csv(\"test_data.csv\", index=False)"
   ],
   "outputs": [],
   "execution_count": 9
  },
  {
   "metadata": {
    "ExecuteTime": {
     "end_time": "2025-05-17T11:15:08.561671Z",
     "start_time": "2025-05-17T11:15:08.452862Z"
    }
   },
   "cell_type": "code",
   "source": "df = pd.read_csv(\"results.csv\")",
   "id": "1193e3319aae4e4a",
   "outputs": [],
   "execution_count": 10
  },
  {
   "metadata": {
    "ExecuteTime": {
     "end_time": "2025-05-17T11:15:30.342133Z",
     "start_time": "2025-05-17T11:15:30.333824Z"
    }
   },
   "cell_type": "code",
   "source": [
    "# remove rows where Prediction is nan\n",
    "df = df[df[\"Prediction\"].notna()]"
   ],
   "id": "305e00c57479dbde",
   "outputs": [],
   "execution_count": 12
  },
  {
   "metadata": {
    "ExecuteTime": {
     "end_time": "2025-05-17T11:16:18.295485Z",
     "start_time": "2025-05-17T11:16:18.292911Z"
    }
   },
   "cell_type": "code",
   "source": [
    "label = df[\"TrueLabel\"]\n",
    "pred = df[\"Prediction\"]"
   ],
   "id": "4b35d2ce32b7e6a3",
   "outputs": [],
   "execution_count": 18
  },
  {
   "metadata": {
    "ExecuteTime": {
     "end_time": "2025-05-17T11:16:32.469998Z",
     "start_time": "2025-05-17T11:16:29.907048Z"
    }
   },
   "cell_type": "code",
   "source": [
    "# print classification report\n",
    "from sklearn.metrics import classification_report\n",
    "print(classification_report(label, pred))"
   ],
   "id": "96cad8cd217ab8c",
   "outputs": [
    {
     "name": "stdout",
     "output_type": "stream",
     "text": [
      "              precision    recall  f1-score   support\n",
      "\n",
      "           0       0.97      0.98      0.97       275\n",
      "           1       0.94      0.93      0.94       109\n",
      "\n",
      "    accuracy                           0.96       384\n",
      "   macro avg       0.96      0.95      0.95       384\n",
      "weighted avg       0.96      0.96      0.96       384\n",
      "\n"
     ]
    }
   ],
   "execution_count": 19
  },
  {
   "metadata": {},
   "cell_type": "code",
   "outputs": [],
   "execution_count": null,
   "source": "",
   "id": "2dbed2b41bf677a2"
  }
 ],
 "metadata": {
  "kernelspec": {
   "display_name": "Python 3",
   "language": "python",
   "name": "python3"
  },
  "language_info": {
   "codemirror_mode": {
    "name": "ipython",
    "version": 2
   },
   "file_extension": ".py",
   "mimetype": "text/x-python",
   "name": "python",
   "nbconvert_exporter": "python",
   "pygments_lexer": "ipython2",
   "version": "2.7.6"
  }
 },
 "nbformat": 4,
 "nbformat_minor": 5
}
