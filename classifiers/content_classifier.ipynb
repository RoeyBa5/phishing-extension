{
 "cells": [
  {
   "cell_type": "code",
   "id": "initial_id",
   "metadata": {
    "collapsed": true,
    "ExecuteTime": {
     "end_time": "2025-05-13T09:09:16.287139Z",
     "start_time": "2025-05-13T09:09:16.016800Z"
    }
   },
   "source": "import pandas as pd",
   "outputs": [],
   "execution_count": 3
  },
  {
   "metadata": {
    "ExecuteTime": {
     "end_time": "2025-05-13T06:59:26.383601Z",
     "start_time": "2025-05-13T06:59:26.257795Z"
    }
   },
   "cell_type": "code",
   "source": [
    "# load df from csv\n",
    "df = pd.read_csv('dataset_phishing.csv')"
   ],
   "id": "ce6c6632b917860b",
   "outputs": [
    {
     "ename": "NameError",
     "evalue": "name 'pd' is not defined",
     "output_type": "error",
     "traceback": [
      "\u001B[0;31m---------------------------------------------------------------------------\u001B[0m",
      "\u001B[0;31mNameError\u001B[0m                                 Traceback (most recent call last)",
      "Cell \u001B[0;32mIn[1], line 2\u001B[0m\n\u001B[1;32m      1\u001B[0m \u001B[38;5;66;03m# load df from csv\u001B[39;00m\n\u001B[0;32m----> 2\u001B[0m df \u001B[38;5;241m=\u001B[39m \u001B[43mpd\u001B[49m\u001B[38;5;241m.\u001B[39mread_csv(\u001B[38;5;124m'\u001B[39m\u001B[38;5;124mdataset_phishing.csv\u001B[39m\u001B[38;5;124m'\u001B[39m)\n",
      "\u001B[0;31mNameError\u001B[0m: name 'pd' is not defined"
     ]
    }
   ],
   "execution_count": 1
  },
  {
   "metadata": {
    "ExecuteTime": {
     "end_time": "2025-05-10T14:38:30.302357Z",
     "start_time": "2025-05-10T14:38:30.277856Z"
    }
   },
   "cell_type": "code",
   "source": [
    "# taken from here, we want to remove them because we can't use them in our model\n",
    "# https://data.mendeley.com/datasets/c2gw7fy2j4/3/files/562f107e-e96e-47f9-8635-a326b1d5fae4\n",
    "external_features = [\n",
    "    \"domain_registration_length\",\n",
    "    # \"domain_registration_length1\",\n",
    "    \"whois_registered_domain\",\n",
    "    \"web_traffic\",\n",
    "    \"domain_age\",\n",
    "    # \"global_rank\",\n",
    "    \"google_index\",\n",
    "    \"dns_record\",\n",
    "    \"page_rank\",\n",
    "]"
   ],
   "id": "5fa61d05b4efa070",
   "outputs": [],
   "execution_count": 8
  },
  {
   "metadata": {
    "ExecuteTime": {
     "end_time": "2025-05-10T14:38:30.687860Z",
     "start_time": "2025-05-10T14:38:30.681272Z"
    }
   },
   "cell_type": "code",
   "source": "df = df.drop(columns=external_features)",
   "id": "804ffaa5eb21f1e0",
   "outputs": [],
   "execution_count": 9
  },
  {
   "metadata": {
    "ExecuteTime": {
     "end_time": "2025-05-10T14:38:32.446517Z",
     "start_time": "2025-05-10T14:38:32.413313Z"
    }
   },
   "cell_type": "code",
   "source": "df",
   "id": "2e83090e1882735f",
   "outputs": [
    {
     "data": {
      "text/plain": [
       "                                                     url  length_url  \\\n",
       "0                  http://www.crestonwood.com/router.php          37   \n",
       "1      http://shadetreetechnology.com/V4/validation/a...          77   \n",
       "2      https://support-appleld.com.secureupdate.duila...         126   \n",
       "3                                     http://rgipt.ac.in          18   \n",
       "4      http://www.iracing.com/tracks/gateway-motorspo...          55   \n",
       "...                                                  ...         ...   \n",
       "11425      http://www.fontspace.com/category/blackletter          45   \n",
       "11426  http://www.budgetbots.com/server.php/Server%20...          84   \n",
       "11427  https://www.facebook.com/Interactive-Televisio...         105   \n",
       "11428             http://www.mypublicdomainpictures.com/          38   \n",
       "11429  http://174.139.46.123/ap/signin?openid.pape.ma...         477   \n",
       "\n",
       "       length_hostname  ip  nb_dots  nb_hyphens  nb_at  nb_qm  nb_and  nb_or  \\\n",
       "0                   19   0        3           0      0      0       0      0   \n",
       "1                   23   1        1           0      0      0       0      0   \n",
       "2                   50   1        4           1      0      1       2      0   \n",
       "3                   11   0        2           0      0      0       0      0   \n",
       "4                   15   0        2           2      0      0       0      0   \n",
       "...                ...  ..      ...         ...    ...    ...     ...    ...   \n",
       "11425               17   0        2           0      0      0       0      0   \n",
       "11426               18   0        5           0      1      1       0      0   \n",
       "11427               16   1        2           6      0      1       0      0   \n",
       "11428               30   0        2           0      0      0       0      0   \n",
       "11429               14   1       24           0      1      1       9      0   \n",
       "\n",
       "       ...  sfh  iframe  popup_window  safe_anchor  onmouseover  right_clic  \\\n",
       "0      ...    0       0             0     0.000000            0           0   \n",
       "1      ...    0       0             0   100.000000            0           0   \n",
       "2      ...    0       0             0   100.000000            0           0   \n",
       "3      ...    0       0             0    62.500000            0           0   \n",
       "4      ...    0       0             0     0.000000            0           0   \n",
       "...    ...  ...     ...           ...          ...          ...         ...   \n",
       "11425  ...    0       0             0     0.000000            0           0   \n",
       "11426  ...    0       0             0     0.000000            0           0   \n",
       "11427  ...    0       0             0    80.000000            0           0   \n",
       "11428  ...    0       0             0     0.000000            0           0   \n",
       "11429  ...    0       0             0    33.333333            0           0   \n",
       "\n",
       "       empty_title  domain_in_title  domain_with_copyright      status  \n",
       "0                0                0                      1  legitimate  \n",
       "1                0                1                      0    phishing  \n",
       "2                0                1                      0    phishing  \n",
       "3                0                1                      0  legitimate  \n",
       "4                0                0                      1  legitimate  \n",
       "...            ...              ...                    ...         ...  \n",
       "11425            0                0                      0  legitimate  \n",
       "11426            0                1                      0    phishing  \n",
       "11427            0                0                      0  legitimate  \n",
       "11428            0                1                      0  legitimate  \n",
       "11429            0                1                      1    phishing  \n",
       "\n",
       "[11430 rows x 82 columns]"
      ],
      "text/html": [
       "<div>\n",
       "<style scoped>\n",
       "    .dataframe tbody tr th:only-of-type {\n",
       "        vertical-align: middle;\n",
       "    }\n",
       "\n",
       "    .dataframe tbody tr th {\n",
       "        vertical-align: top;\n",
       "    }\n",
       "\n",
       "    .dataframe thead th {\n",
       "        text-align: right;\n",
       "    }\n",
       "</style>\n",
       "<table border=\"1\" class=\"dataframe\">\n",
       "  <thead>\n",
       "    <tr style=\"text-align: right;\">\n",
       "      <th></th>\n",
       "      <th>url</th>\n",
       "      <th>length_url</th>\n",
       "      <th>length_hostname</th>\n",
       "      <th>ip</th>\n",
       "      <th>nb_dots</th>\n",
       "      <th>nb_hyphens</th>\n",
       "      <th>nb_at</th>\n",
       "      <th>nb_qm</th>\n",
       "      <th>nb_and</th>\n",
       "      <th>nb_or</th>\n",
       "      <th>...</th>\n",
       "      <th>sfh</th>\n",
       "      <th>iframe</th>\n",
       "      <th>popup_window</th>\n",
       "      <th>safe_anchor</th>\n",
       "      <th>onmouseover</th>\n",
       "      <th>right_clic</th>\n",
       "      <th>empty_title</th>\n",
       "      <th>domain_in_title</th>\n",
       "      <th>domain_with_copyright</th>\n",
       "      <th>status</th>\n",
       "    </tr>\n",
       "  </thead>\n",
       "  <tbody>\n",
       "    <tr>\n",
       "      <th>0</th>\n",
       "      <td>http://www.crestonwood.com/router.php</td>\n",
       "      <td>37</td>\n",
       "      <td>19</td>\n",
       "      <td>0</td>\n",
       "      <td>3</td>\n",
       "      <td>0</td>\n",
       "      <td>0</td>\n",
       "      <td>0</td>\n",
       "      <td>0</td>\n",
       "      <td>0</td>\n",
       "      <td>...</td>\n",
       "      <td>0</td>\n",
       "      <td>0</td>\n",
       "      <td>0</td>\n",
       "      <td>0.000000</td>\n",
       "      <td>0</td>\n",
       "      <td>0</td>\n",
       "      <td>0</td>\n",
       "      <td>0</td>\n",
       "      <td>1</td>\n",
       "      <td>legitimate</td>\n",
       "    </tr>\n",
       "    <tr>\n",
       "      <th>1</th>\n",
       "      <td>http://shadetreetechnology.com/V4/validation/a...</td>\n",
       "      <td>77</td>\n",
       "      <td>23</td>\n",
       "      <td>1</td>\n",
       "      <td>1</td>\n",
       "      <td>0</td>\n",
       "      <td>0</td>\n",
       "      <td>0</td>\n",
       "      <td>0</td>\n",
       "      <td>0</td>\n",
       "      <td>...</td>\n",
       "      <td>0</td>\n",
       "      <td>0</td>\n",
       "      <td>0</td>\n",
       "      <td>100.000000</td>\n",
       "      <td>0</td>\n",
       "      <td>0</td>\n",
       "      <td>0</td>\n",
       "      <td>1</td>\n",
       "      <td>0</td>\n",
       "      <td>phishing</td>\n",
       "    </tr>\n",
       "    <tr>\n",
       "      <th>2</th>\n",
       "      <td>https://support-appleld.com.secureupdate.duila...</td>\n",
       "      <td>126</td>\n",
       "      <td>50</td>\n",
       "      <td>1</td>\n",
       "      <td>4</td>\n",
       "      <td>1</td>\n",
       "      <td>0</td>\n",
       "      <td>1</td>\n",
       "      <td>2</td>\n",
       "      <td>0</td>\n",
       "      <td>...</td>\n",
       "      <td>0</td>\n",
       "      <td>0</td>\n",
       "      <td>0</td>\n",
       "      <td>100.000000</td>\n",
       "      <td>0</td>\n",
       "      <td>0</td>\n",
       "      <td>0</td>\n",
       "      <td>1</td>\n",
       "      <td>0</td>\n",
       "      <td>phishing</td>\n",
       "    </tr>\n",
       "    <tr>\n",
       "      <th>3</th>\n",
       "      <td>http://rgipt.ac.in</td>\n",
       "      <td>18</td>\n",
       "      <td>11</td>\n",
       "      <td>0</td>\n",
       "      <td>2</td>\n",
       "      <td>0</td>\n",
       "      <td>0</td>\n",
       "      <td>0</td>\n",
       "      <td>0</td>\n",
       "      <td>0</td>\n",
       "      <td>...</td>\n",
       "      <td>0</td>\n",
       "      <td>0</td>\n",
       "      <td>0</td>\n",
       "      <td>62.500000</td>\n",
       "      <td>0</td>\n",
       "      <td>0</td>\n",
       "      <td>0</td>\n",
       "      <td>1</td>\n",
       "      <td>0</td>\n",
       "      <td>legitimate</td>\n",
       "    </tr>\n",
       "    <tr>\n",
       "      <th>4</th>\n",
       "      <td>http://www.iracing.com/tracks/gateway-motorspo...</td>\n",
       "      <td>55</td>\n",
       "      <td>15</td>\n",
       "      <td>0</td>\n",
       "      <td>2</td>\n",
       "      <td>2</td>\n",
       "      <td>0</td>\n",
       "      <td>0</td>\n",
       "      <td>0</td>\n",
       "      <td>0</td>\n",
       "      <td>...</td>\n",
       "      <td>0</td>\n",
       "      <td>0</td>\n",
       "      <td>0</td>\n",
       "      <td>0.000000</td>\n",
       "      <td>0</td>\n",
       "      <td>0</td>\n",
       "      <td>0</td>\n",
       "      <td>0</td>\n",
       "      <td>1</td>\n",
       "      <td>legitimate</td>\n",
       "    </tr>\n",
       "    <tr>\n",
       "      <th>...</th>\n",
       "      <td>...</td>\n",
       "      <td>...</td>\n",
       "      <td>...</td>\n",
       "      <td>...</td>\n",
       "      <td>...</td>\n",
       "      <td>...</td>\n",
       "      <td>...</td>\n",
       "      <td>...</td>\n",
       "      <td>...</td>\n",
       "      <td>...</td>\n",
       "      <td>...</td>\n",
       "      <td>...</td>\n",
       "      <td>...</td>\n",
       "      <td>...</td>\n",
       "      <td>...</td>\n",
       "      <td>...</td>\n",
       "      <td>...</td>\n",
       "      <td>...</td>\n",
       "      <td>...</td>\n",
       "      <td>...</td>\n",
       "      <td>...</td>\n",
       "    </tr>\n",
       "    <tr>\n",
       "      <th>11425</th>\n",
       "      <td>http://www.fontspace.com/category/blackletter</td>\n",
       "      <td>45</td>\n",
       "      <td>17</td>\n",
       "      <td>0</td>\n",
       "      <td>2</td>\n",
       "      <td>0</td>\n",
       "      <td>0</td>\n",
       "      <td>0</td>\n",
       "      <td>0</td>\n",
       "      <td>0</td>\n",
       "      <td>...</td>\n",
       "      <td>0</td>\n",
       "      <td>0</td>\n",
       "      <td>0</td>\n",
       "      <td>0.000000</td>\n",
       "      <td>0</td>\n",
       "      <td>0</td>\n",
       "      <td>0</td>\n",
       "      <td>0</td>\n",
       "      <td>0</td>\n",
       "      <td>legitimate</td>\n",
       "    </tr>\n",
       "    <tr>\n",
       "      <th>11426</th>\n",
       "      <td>http://www.budgetbots.com/server.php/Server%20...</td>\n",
       "      <td>84</td>\n",
       "      <td>18</td>\n",
       "      <td>0</td>\n",
       "      <td>5</td>\n",
       "      <td>0</td>\n",
       "      <td>1</td>\n",
       "      <td>1</td>\n",
       "      <td>0</td>\n",
       "      <td>0</td>\n",
       "      <td>...</td>\n",
       "      <td>0</td>\n",
       "      <td>0</td>\n",
       "      <td>0</td>\n",
       "      <td>0.000000</td>\n",
       "      <td>0</td>\n",
       "      <td>0</td>\n",
       "      <td>0</td>\n",
       "      <td>1</td>\n",
       "      <td>0</td>\n",
       "      <td>phishing</td>\n",
       "    </tr>\n",
       "    <tr>\n",
       "      <th>11427</th>\n",
       "      <td>https://www.facebook.com/Interactive-Televisio...</td>\n",
       "      <td>105</td>\n",
       "      <td>16</td>\n",
       "      <td>1</td>\n",
       "      <td>2</td>\n",
       "      <td>6</td>\n",
       "      <td>0</td>\n",
       "      <td>1</td>\n",
       "      <td>0</td>\n",
       "      <td>0</td>\n",
       "      <td>...</td>\n",
       "      <td>0</td>\n",
       "      <td>0</td>\n",
       "      <td>0</td>\n",
       "      <td>80.000000</td>\n",
       "      <td>0</td>\n",
       "      <td>0</td>\n",
       "      <td>0</td>\n",
       "      <td>0</td>\n",
       "      <td>0</td>\n",
       "      <td>legitimate</td>\n",
       "    </tr>\n",
       "    <tr>\n",
       "      <th>11428</th>\n",
       "      <td>http://www.mypublicdomainpictures.com/</td>\n",
       "      <td>38</td>\n",
       "      <td>30</td>\n",
       "      <td>0</td>\n",
       "      <td>2</td>\n",
       "      <td>0</td>\n",
       "      <td>0</td>\n",
       "      <td>0</td>\n",
       "      <td>0</td>\n",
       "      <td>0</td>\n",
       "      <td>...</td>\n",
       "      <td>0</td>\n",
       "      <td>0</td>\n",
       "      <td>0</td>\n",
       "      <td>0.000000</td>\n",
       "      <td>0</td>\n",
       "      <td>0</td>\n",
       "      <td>0</td>\n",
       "      <td>1</td>\n",
       "      <td>0</td>\n",
       "      <td>legitimate</td>\n",
       "    </tr>\n",
       "    <tr>\n",
       "      <th>11429</th>\n",
       "      <td>http://174.139.46.123/ap/signin?openid.pape.ma...</td>\n",
       "      <td>477</td>\n",
       "      <td>14</td>\n",
       "      <td>1</td>\n",
       "      <td>24</td>\n",
       "      <td>0</td>\n",
       "      <td>1</td>\n",
       "      <td>1</td>\n",
       "      <td>9</td>\n",
       "      <td>0</td>\n",
       "      <td>...</td>\n",
       "      <td>0</td>\n",
       "      <td>0</td>\n",
       "      <td>0</td>\n",
       "      <td>33.333333</td>\n",
       "      <td>0</td>\n",
       "      <td>0</td>\n",
       "      <td>0</td>\n",
       "      <td>1</td>\n",
       "      <td>1</td>\n",
       "      <td>phishing</td>\n",
       "    </tr>\n",
       "  </tbody>\n",
       "</table>\n",
       "<p>11430 rows × 82 columns</p>\n",
       "</div>"
      ]
     },
     "execution_count": 10,
     "metadata": {},
     "output_type": "execute_result"
    }
   ],
   "execution_count": 10
  },
  {
   "metadata": {
    "ExecuteTime": {
     "end_time": "2025-05-10T14:41:46.770635Z",
     "start_time": "2025-05-10T14:41:46.725695Z"
    }
   },
   "cell_type": "code",
   "source": "df['status'] = df['status'].map({\"legitimate\": 0, \"phishing\": 1})",
   "id": "6485093ab90ec563",
   "outputs": [],
   "execution_count": 21
  },
  {
   "metadata": {
    "ExecuteTime": {
     "end_time": "2025-05-10T14:42:05.608676Z",
     "start_time": "2025-05-10T14:42:05.459652Z"
    }
   },
   "cell_type": "code",
   "source": "corr = df.corr()",
   "id": "4ff52c8f4f250922",
   "outputs": [
    {
     "name": "stderr",
     "output_type": "stream",
     "text": [
      "/var/folders/02/q__yg7mx1cn27p_3747mry900000gn/T/ipykernel_83048/361440739.py:1: FutureWarning: The default value of numeric_only in DataFrame.corr is deprecated. In a future version, it will default to False. Select only valid columns or specify the value of numeric_only to silence this warning.\n",
      "  corr = df.corr()\n"
     ]
    }
   ],
   "execution_count": 22
  },
  {
   "metadata": {
    "ExecuteTime": {
     "end_time": "2025-05-10T14:42:15.348486Z",
     "start_time": "2025-05-10T14:42:15.343958Z"
    }
   },
   "cell_type": "code",
   "source": "corr[\"status\"].sort_values(ascending=False)",
   "id": "7508312f12a591f9",
   "outputs": [
    {
     "data": {
      "text/plain": [
       "status                  1.000000\n",
       "ratio_digits_url        0.356395\n",
       "domain_in_title         0.342807\n",
       "phish_hints             0.335393\n",
       "ip                      0.321698\n",
       "                          ...   \n",
       "ratio_nullHyperlinks         NaN\n",
       "ratio_intRedirection         NaN\n",
       "ratio_intErrors              NaN\n",
       "submit_email                 NaN\n",
       "sfh                          NaN\n",
       "Name: status, Length: 81, dtype: float64"
      ]
     },
     "execution_count": 23,
     "metadata": {},
     "output_type": "execute_result"
    }
   ],
   "execution_count": 23
  },
  {
   "metadata": {
    "ExecuteTime": {
     "end_time": "2025-05-11T21:30:38.791984Z",
     "start_time": "2025-05-11T21:30:38.727481Z"
    }
   },
   "cell_type": "code",
   "source": "low_corr_features = corr[\"status\"].sort_values(ascending=False).index[abs(corr[\"status\"]) < 0.05]",
   "id": "31aeed767837caeb",
   "outputs": [],
   "execution_count": 82
  },
  {
   "metadata": {
    "ExecuteTime": {
     "end_time": "2025-05-11T21:30:39.257474Z",
     "start_time": "2025-05-11T21:30:39.253326Z"
    }
   },
   "cell_type": "code",
   "source": "low_corr_features",
   "id": "5e9f218c59efbcb4",
   "outputs": [
    {
     "data": {
      "text/plain": [
       "Index(['ratio_digits_host', 'shortest_word_host', 'prefix_suffix',\n",
       "       'tld_in_subdomain', 'nb_dots', 'avg_word_path', 'avg_word_host',\n",
       "       'longest_word_host', 'https_token', 'ratio_extHyperlinks',\n",
       "       'shortest_word_path', 'nb_dslash', 'brand_in_subdomain',\n",
       "       'nb_external_redirection', 'nb_hyphens', 'ratio_extMedia',\n",
       "       'ratio_intHyperlinks', 'nb_or', 'ratio_nullHyperlinks'],\n",
       "      dtype='object')"
      ]
     },
     "execution_count": 83,
     "metadata": {},
     "output_type": "execute_result"
    }
   ],
   "execution_count": 83
  },
  {
   "metadata": {
    "ExecuteTime": {
     "end_time": "2025-05-11T21:37:45.815141Z",
     "start_time": "2025-05-11T21:37:45.793475Z"
    }
   },
   "cell_type": "code",
   "source": [
    "from sklearn.model_selection import train_test_split\n",
    "\n",
    "X = df.drop([\"status\", \"url\"], axis=1)\n",
    "# remove features with small correselation with status\n",
    "# X = X.drop(low_corr_features, axis=1)\n",
    "# X.columns = [f'f{i}' for i in range(X.shape[1])]\n",
    "y = df[\"status\"]\n",
    "\n",
    "X_train, X_test, y_train, y_test = train_test_split(\n",
    "    X, y, test_size=0.2, random_state=42\n",
    ")"
   ],
   "id": "5bea2caa7c2ce64a",
   "outputs": [],
   "execution_count": 93
  },
  {
   "metadata": {
    "ExecuteTime": {
     "end_time": "2025-05-11T21:31:02.445736Z",
     "start_time": "2025-05-11T21:30:41.916305Z"
    }
   },
   "cell_type": "code",
   "source": [
    "from sklearn.model_selection import GridSearchCV\n",
    "from sklearn.ensemble import RandomForestClassifier, AdaBoostClassifier\n",
    "from xgboost import XGBClassifier\n",
    "\n",
    "# Hyperparameter grids\n",
    "rf_param_grid = {\n",
    "    'n_estimators': [50, 100, 200],\n",
    "    'max_depth': [None, 10, 20],\n",
    "}\n",
    "\n",
    "adb_param_grid = {\n",
    "    'n_estimators': [50, 100, 150],\n",
    "    'learning_rate': [0.01, 0.1, 1],\n",
    "}\n",
    "\n",
    "xgb_param_grid = {\n",
    "    'n_estimators': [50, 100, 200],\n",
    "    'max_depth': [3, 5, 7],\n",
    "    'learning_rate': [0.01, 0.1, 0.2],\n",
    "}\n",
    "\n",
    "# Grid search\n",
    "# rf_search = GridSearchCV(RandomForestClassifier(random_state=42), rf_param_grid, cv=3, scoring='accuracy')\n",
    "# adb_search = GridSearchCV(AdaBoostClassifier(random_state=42), adb_param_grid, cv=3, scoring='accuracy')\n",
    "xgb_search = GridSearchCV(XGBClassifier(eval_metric='logloss', random_state=42),\n",
    "                          xgb_param_grid, cv=3, scoring='accuracy')\n",
    "\n",
    "# Fit models\n",
    "# rf_search.fit(X_train, y_train)\n",
    "# adb_search.fit(X_train, y_train)\n",
    "xgb_search.fit(X_train, y_train)\n",
    "\n",
    "# Best models\n",
    "# best_rf = rf_search.best_estimator_\n",
    "# best_adb = adb_search.best_estimator_\n",
    "best_xgb = xgb_search.best_estimator_\n",
    "\n",
    "# print(\"Best RF params:\", rf_search.best_params_)\n",
    "# print(\"Best AdaBoost params:\", adb_search.best_params_)\n",
    "print(\"Best XGBoost params:\", xgb_search.best_params_)\n"
   ],
   "id": "2350329ec7852136",
   "outputs": [
    {
     "name": "stdout",
     "output_type": "stream",
     "text": [
      "Best XGBoost params: {'learning_rate': 0.1, 'max_depth': 5, 'n_estimators': 200}\n"
     ]
    }
   ],
   "execution_count": 85
  },
  {
   "metadata": {
    "ExecuteTime": {
     "end_time": "2025-05-11T21:37:59.642621Z",
     "start_time": "2025-05-11T21:37:48.115413Z"
    }
   },
   "cell_type": "code",
   "source": [
    "from sklearn.feature_selection import RFE\n",
    "\n",
    "rfe = RFE(XGBClassifier(eval_metric='logloss', random_state=42), n_features_to_select=30)\n",
    "rfe.fit(X_train, y_train)\n",
    "\n",
    "selected_features = X.columns[rfe.support_]\n",
    "X_reduced = X[selected_features]"
   ],
   "id": "e8abad0de2735d79",
   "outputs": [],
   "execution_count": 94
  },
  {
   "metadata": {
    "ExecuteTime": {
     "end_time": "2025-05-11T21:37:59.735984Z",
     "start_time": "2025-05-11T21:37:59.723097Z"
    }
   },
   "cell_type": "code",
   "source": "selected_features",
   "id": "c07d1330d5b58038",
   "outputs": [
    {
     "data": {
      "text/plain": [
       "Index(['length_hostname', 'ip', 'nb_dots', 'nb_hyphens', 'nb_at', 'nb_qm',\n",
       "       'nb_eq', 'nb_underscore', 'nb_slash', 'nb_www', 'ratio_digits_url',\n",
       "       'ratio_digits_host', 'prefix_suffix', 'shortening_service',\n",
       "       'length_words_raw', 'shortest_word_path', 'longest_words_raw',\n",
       "       'longest_word_path', 'phish_hints', 'domain_in_brand', 'suspecious_tld',\n",
       "       'nb_hyperlinks', 'ratio_extHyperlinks', 'login_form',\n",
       "       'external_favicon', 'links_in_tags', 'safe_anchor', 'empty_title',\n",
       "       'domain_in_title', 'domain_with_copyright'],\n",
       "      dtype='object')"
      ]
     },
     "execution_count": 95,
     "metadata": {},
     "output_type": "execute_result"
    }
   ],
   "execution_count": 95
  },
  {
   "metadata": {
    "ExecuteTime": {
     "end_time": "2025-05-11T21:37:04.509018Z",
     "start_time": "2025-05-11T21:37:04.461959Z"
    }
   },
   "cell_type": "code",
   "source": [
    "from sklearn.metrics import classification_report\n",
    "\n",
    "y_pred = rfe.predict(X_test)\n",
    "print(classification_report(y_test, y_pred))"
   ],
   "id": "1a2ae62288e5b30b",
   "outputs": [
    {
     "name": "stdout",
     "output_type": "stream",
     "text": [
      "              precision    recall  f1-score   support\n",
      "\n",
      "           0       0.94      0.95      0.95      1157\n",
      "           1       0.95      0.94      0.94      1129\n",
      "\n",
      "    accuracy                           0.95      2286\n",
      "   macro avg       0.95      0.95      0.95      2286\n",
      "weighted avg       0.95      0.95      0.95      2286\n",
      "\n"
     ]
    }
   ],
   "execution_count": 90
  },
  {
   "metadata": {
    "ExecuteTime": {
     "end_time": "2025-05-10T20:33:45.774302Z",
     "start_time": "2025-05-10T20:33:27.519927Z"
    }
   },
   "cell_type": "code",
   "source": [
    "from sklearn.ensemble import StackingClassifier\n",
    "from sklearn.linear_model import LogisticRegression\n",
    "from sklearn.metrics import classification_report\n",
    "\n",
    "# Define stacking classifier\n",
    "stacking_model = StackingClassifier(\n",
    "    estimators=[\n",
    "        ('rf', best_rf),\n",
    "        ('adb', best_adb),\n",
    "        ('xgb', best_xgb)\n",
    "    ],\n",
    "    final_estimator=LogisticRegression(),\n",
    "    cv=5\n",
    ")\n",
    "\n",
    "# Fit stacking model\n",
    "stacking_model.fit(X_train, y_train)\n",
    "\n",
    "# Predict and evaluate\n",
    "y_pred = stacking_model.predict(X_test)\n",
    "print(classification_report(y_test, y_pred))\n"
   ],
   "id": "bd7daed9d984b5fe",
   "outputs": [
    {
     "name": "stdout",
     "output_type": "stream",
     "text": [
      "              precision    recall  f1-score   support\n",
      "\n",
      "           0       0.94      0.96      0.95      1157\n",
      "           1       0.96      0.94      0.95      1129\n",
      "\n",
      "    accuracy                           0.95      2286\n",
      "   macro avg       0.95      0.95      0.95      2286\n",
      "weighted avg       0.95      0.95      0.95      2286\n",
      "\n"
     ]
    }
   ],
   "execution_count": 58
  },
  {
   "metadata": {
    "ExecuteTime": {
     "end_time": "2025-05-10T17:21:07.705526Z",
     "start_time": "2025-05-10T17:21:07.685446Z"
    }
   },
   "cell_type": "code",
   "source": [
    "y_pred = best_xgb.predict(X_test)\n",
    "print(classification_report(y_test, y_pred))"
   ],
   "id": "e397d8483464472f",
   "outputs": [
    {
     "name": "stdout",
     "output_type": "stream",
     "text": [
      "              precision    recall  f1-score   support\n",
      "\n",
      "           0       0.95      0.96      0.95      1157\n",
      "           1       0.96      0.95      0.95      1129\n",
      "\n",
      "    accuracy                           0.95      2286\n",
      "   macro avg       0.95      0.95      0.95      2286\n",
      "weighted avg       0.95      0.95      0.95      2286\n",
      "\n"
     ]
    }
   ],
   "execution_count": 51
  },
  {
   "metadata": {
    "ExecuteTime": {
     "end_time": "2025-05-10T20:33:57.641552Z",
     "start_time": "2025-05-10T20:33:57.388964Z"
    }
   },
   "cell_type": "code",
   "source": [
    "import joblib\n",
    "\n",
    "# Save the stacking model\n",
    "joblib.dump(stacking_model, 'stacking_model.pkl')\n",
    "\n",
    "# Load the stacking model later\n",
    "# loaded_model = joblib.load('stacking_model.pkl')"
   ],
   "id": "c06586ac76e44563",
   "outputs": [
    {
     "data": {
      "text/plain": [
       "['stacking_model.pkl']"
      ]
     },
     "execution_count": 59,
     "metadata": {},
     "output_type": "execute_result"
    }
   ],
   "execution_count": 59
  },
  {
   "metadata": {
    "ExecuteTime": {
     "end_time": "2025-05-10T17:21:25.521930Z",
     "start_time": "2025-05-10T17:21:25.500337Z"
    }
   },
   "cell_type": "code",
   "source": [
    "import joblib\n",
    "\n",
    "# Save the stacking model\n",
    "joblib.dump(best_xgb, 'xgb_model.pkl')\n",
    "\n",
    "# Load the stacking model later\n",
    "# loaded_model = joblib.load('stacking_model.pkl')"
   ],
   "id": "85522e18e8c18887",
   "outputs": [
    {
     "data": {
      "text/plain": [
       "['xgb_model.pkl']"
      ]
     },
     "execution_count": 52,
     "metadata": {},
     "output_type": "execute_result"
    }
   ],
   "execution_count": 52
  },
  {
   "metadata": {
    "ExecuteTime": {
     "end_time": "2025-05-10T17:23:34.334587Z",
     "start_time": "2025-05-10T17:23:34.212846Z"
    }
   },
   "cell_type": "code",
   "source": [
    "from onnxconverter_common import FloatTensorType\n",
    "from skl2onnx import convert_sklearn\n",
    "\n",
    "convert_sklearn(\n",
    "    best_xgb,\n",
    "    \"pipeline_xgboost\",\n",
    "    [(\"input\", FloatTensorType([None, 2]))],\n",
    "    target_opset={\"\": 12, \"ai.onnx.ml\": 2},\n",
    ")"
   ],
   "id": "9b3112db090dea9e",
   "outputs": [
    {
     "ename": "RuntimeError",
     "evalue": "Unable to interpret 'nb_hyperlinks', feature names should follow pattern 'f%d'.",
     "output_type": "error",
     "traceback": [
      "\u001B[0;31m---------------------------------------------------------------------------\u001B[0m",
      "\u001B[0;31mValueError\u001B[0m                                Traceback (most recent call last)",
      "File \u001B[0;32m/Library/Frameworks/Python.framework/Versions/3.9/lib/python3.9/site-packages/onnxmltools/convert/xgboost/operator_converters/XGBoost.py:114\u001B[0m, in \u001B[0;36mXGBConverter._add_node\u001B[0;34m(attr_pairs, is_classifier, tree_id, tree_weight, node_id, feature_id, mode, value, true_child_id, false_child_id, weights, weight_id_bias, missing, hitrate)\u001B[0m\n\u001B[1;32m    113\u001B[0m \u001B[38;5;28;01mtry\u001B[39;00m:\n\u001B[0;32m--> 114\u001B[0m     feature_id \u001B[38;5;241m=\u001B[39m \u001B[38;5;28mint\u001B[39m(\u001B[38;5;28;43mfloat\u001B[39;49m\u001B[43m(\u001B[49m\u001B[43mfeature_id\u001B[49m\u001B[43m)\u001B[49m)\n\u001B[1;32m    115\u001B[0m \u001B[38;5;28;01mexcept\u001B[39;00m \u001B[38;5;167;01mValueError\u001B[39;00m:\n",
      "\u001B[0;31mValueError\u001B[0m: could not convert string to float: 'nb_hyperlinks'",
      "\nDuring handling of the above exception, another exception occurred:\n",
      "\u001B[0;31mRuntimeError\u001B[0m                              Traceback (most recent call last)",
      "Cell \u001B[0;32mIn[55], line 4\u001B[0m\n\u001B[1;32m      1\u001B[0m \u001B[38;5;28;01mfrom\u001B[39;00m\u001B[38;5;250m \u001B[39m\u001B[38;5;21;01monnxconverter_common\u001B[39;00m\u001B[38;5;250m \u001B[39m\u001B[38;5;28;01mimport\u001B[39;00m FloatTensorType\n\u001B[1;32m      2\u001B[0m \u001B[38;5;28;01mfrom\u001B[39;00m\u001B[38;5;250m \u001B[39m\u001B[38;5;21;01mskl2onnx\u001B[39;00m\u001B[38;5;250m \u001B[39m\u001B[38;5;28;01mimport\u001B[39;00m convert_sklearn\n\u001B[0;32m----> 4\u001B[0m \u001B[43mconvert_sklearn\u001B[49m\u001B[43m(\u001B[49m\n\u001B[1;32m      5\u001B[0m \u001B[43m    \u001B[49m\u001B[43mbest_xgb\u001B[49m\u001B[43m,\u001B[49m\n\u001B[1;32m      6\u001B[0m \u001B[43m    \u001B[49m\u001B[38;5;124;43m\"\u001B[39;49m\u001B[38;5;124;43mpipeline_xgboost\u001B[39;49m\u001B[38;5;124;43m\"\u001B[39;49m\u001B[43m,\u001B[49m\n\u001B[1;32m      7\u001B[0m \u001B[43m    \u001B[49m\u001B[43m[\u001B[49m\u001B[43m(\u001B[49m\u001B[38;5;124;43m\"\u001B[39;49m\u001B[38;5;124;43minput\u001B[39;49m\u001B[38;5;124;43m\"\u001B[39;49m\u001B[43m,\u001B[49m\u001B[43m \u001B[49m\u001B[43mFloatTensorType\u001B[49m\u001B[43m(\u001B[49m\u001B[43m[\u001B[49m\u001B[38;5;28;43;01mNone\u001B[39;49;00m\u001B[43m,\u001B[49m\u001B[43m \u001B[49m\u001B[38;5;241;43m2\u001B[39;49m\u001B[43m]\u001B[49m\u001B[43m)\u001B[49m\u001B[43m)\u001B[49m\u001B[43m]\u001B[49m\u001B[43m,\u001B[49m\n\u001B[1;32m      8\u001B[0m \u001B[43m    \u001B[49m\u001B[43mtarget_opset\u001B[49m\u001B[38;5;241;43m=\u001B[39;49m\u001B[43m{\u001B[49m\u001B[38;5;124;43m\"\u001B[39;49m\u001B[38;5;124;43m\"\u001B[39;49m\u001B[43m:\u001B[49m\u001B[43m \u001B[49m\u001B[38;5;241;43m12\u001B[39;49m\u001B[43m,\u001B[49m\u001B[43m \u001B[49m\u001B[38;5;124;43m\"\u001B[39;49m\u001B[38;5;124;43mai.onnx.ml\u001B[39;49m\u001B[38;5;124;43m\"\u001B[39;49m\u001B[43m:\u001B[49m\u001B[43m \u001B[49m\u001B[38;5;241;43m2\u001B[39;49m\u001B[43m}\u001B[49m\u001B[43m,\u001B[49m\n\u001B[1;32m      9\u001B[0m \u001B[43m)\u001B[49m\n",
      "File \u001B[0;32m/Library/Frameworks/Python.framework/Versions/3.9/lib/python3.9/site-packages/skl2onnx/convert.py:210\u001B[0m, in \u001B[0;36mconvert_sklearn\u001B[0;34m(model, name, initial_types, doc_string, target_opset, custom_conversion_functions, custom_shape_calculators, custom_parsers, options, intermediate, white_op, black_op, final_types, dtype, naming, model_optim, verbose)\u001B[0m\n\u001B[1;32m    208\u001B[0m \u001B[38;5;28;01mif\u001B[39;00m verbose \u001B[38;5;241m>\u001B[39m\u001B[38;5;241m=\u001B[39m \u001B[38;5;241m1\u001B[39m:\n\u001B[1;32m    209\u001B[0m     \u001B[38;5;28mprint\u001B[39m(\u001B[38;5;124m\"\u001B[39m\u001B[38;5;124m[convert_sklearn] convert_topology\u001B[39m\u001B[38;5;124m\"\u001B[39m)\n\u001B[0;32m--> 210\u001B[0m onnx_model \u001B[38;5;241m=\u001B[39m \u001B[43mconvert_topology\u001B[49m\u001B[43m(\u001B[49m\n\u001B[1;32m    211\u001B[0m \u001B[43m    \u001B[49m\u001B[43mtopology\u001B[49m\u001B[43m,\u001B[49m\n\u001B[1;32m    212\u001B[0m \u001B[43m    \u001B[49m\u001B[43mname\u001B[49m\u001B[43m,\u001B[49m\n\u001B[1;32m    213\u001B[0m \u001B[43m    \u001B[49m\u001B[43mdoc_string\u001B[49m\u001B[43m,\u001B[49m\n\u001B[1;32m    214\u001B[0m \u001B[43m    \u001B[49m\u001B[43mtarget_opset\u001B[49m\u001B[43m,\u001B[49m\n\u001B[1;32m    215\u001B[0m \u001B[43m    \u001B[49m\u001B[43moptions\u001B[49m\u001B[38;5;241;43m=\u001B[39;49m\u001B[43moptions\u001B[49m\u001B[43m,\u001B[49m\n\u001B[1;32m    216\u001B[0m \u001B[43m    \u001B[49m\u001B[43mremove_identity\u001B[49m\u001B[38;5;241;43m=\u001B[39;49m\u001B[43mmodel_optim\u001B[49m\u001B[43m \u001B[49m\u001B[38;5;129;43;01mand\u001B[39;49;00m\u001B[43m \u001B[49m\u001B[38;5;129;43;01mnot\u001B[39;49;00m\u001B[43m \u001B[49m\u001B[43mintermediate\u001B[49m\u001B[43m,\u001B[49m\n\u001B[1;32m    217\u001B[0m \u001B[43m    \u001B[49m\u001B[43mverbose\u001B[49m\u001B[38;5;241;43m=\u001B[39;49m\u001B[43mverbose\u001B[49m\u001B[43m,\u001B[49m\n\u001B[1;32m    218\u001B[0m \u001B[43m\u001B[49m\u001B[43m)\u001B[49m\n\u001B[1;32m    219\u001B[0m \u001B[38;5;28;01mif\u001B[39;00m verbose \u001B[38;5;241m>\u001B[39m\u001B[38;5;241m=\u001B[39m \u001B[38;5;241m1\u001B[39m:\n\u001B[1;32m    220\u001B[0m     \u001B[38;5;28mprint\u001B[39m(\u001B[38;5;124m\"\u001B[39m\u001B[38;5;124m[convert_sklearn] end\u001B[39m\u001B[38;5;124m\"\u001B[39m)\n",
      "File \u001B[0;32m/Library/Frameworks/Python.framework/Versions/3.9/lib/python3.9/site-packages/skl2onnx/common/_topology.py:1528\u001B[0m, in \u001B[0;36mconvert_topology\u001B[0;34m(topology, model_name, doc_string, target_opset, options, remove_identity, verbose)\u001B[0m\n\u001B[1;32m   1517\u001B[0m container \u001B[38;5;241m=\u001B[39m ModelComponentContainer(\n\u001B[1;32m   1518\u001B[0m     target_opset,\n\u001B[1;32m   1519\u001B[0m     options\u001B[38;5;241m=\u001B[39moptions,\n\u001B[0;32m   (...)\u001B[0m\n\u001B[1;32m   1523\u001B[0m     verbose\u001B[38;5;241m=\u001B[39mverbose,\n\u001B[1;32m   1524\u001B[0m )\n\u001B[1;32m   1526\u001B[0m \u001B[38;5;66;03m# Traverse the graph from roots to leaves\u001B[39;00m\n\u001B[1;32m   1527\u001B[0m \u001B[38;5;66;03m# This loop could eventually be parallelized.\u001B[39;00m\n\u001B[0;32m-> 1528\u001B[0m \u001B[43mtopology\u001B[49m\u001B[38;5;241;43m.\u001B[39;49m\u001B[43mconvert_operators\u001B[49m\u001B[43m(\u001B[49m\u001B[43mcontainer\u001B[49m\u001B[38;5;241;43m=\u001B[39;49m\u001B[43mcontainer\u001B[49m\u001B[43m,\u001B[49m\u001B[43m \u001B[49m\u001B[43mverbose\u001B[49m\u001B[38;5;241;43m=\u001B[39;49m\u001B[43mverbose\u001B[49m\u001B[43m)\u001B[49m\n\u001B[1;32m   1529\u001B[0m container\u001B[38;5;241m.\u001B[39mensure_topological_order()\n\u001B[1;32m   1531\u001B[0m \u001B[38;5;28;01mif\u001B[39;00m \u001B[38;5;28mlen\u001B[39m(container\u001B[38;5;241m.\u001B[39minputs) \u001B[38;5;241m==\u001B[39m \u001B[38;5;241m0\u001B[39m:\n",
      "File \u001B[0;32m/Library/Frameworks/Python.framework/Versions/3.9/lib/python3.9/site-packages/skl2onnx/common/_topology.py:1345\u001B[0m, in \u001B[0;36mTopology.convert_operators\u001B[0;34m(self, container, verbose)\u001B[0m\n\u001B[1;32m   1342\u001B[0m     _check_variable_out_(variable, operator)\n\u001B[1;32m   1344\u001B[0m \u001B[38;5;28mself\u001B[39m\u001B[38;5;241m.\u001B[39mcall_shape_calculator(operator)\n\u001B[0;32m-> 1345\u001B[0m \u001B[38;5;28;43mself\u001B[39;49m\u001B[38;5;241;43m.\u001B[39;49m\u001B[43mcall_converter\u001B[49m\u001B[43m(\u001B[49m\u001B[43moperator\u001B[49m\u001B[43m,\u001B[49m\u001B[43m \u001B[49m\u001B[43mcontainer\u001B[49m\u001B[43m,\u001B[49m\u001B[43m \u001B[49m\u001B[43mverbose\u001B[49m\u001B[38;5;241;43m=\u001B[39;49m\u001B[43mverbose\u001B[49m\u001B[43m)\u001B[49m\n\u001B[1;32m   1347\u001B[0m \u001B[38;5;66;03m# If an operator contains a sequence of operators,\u001B[39;00m\n\u001B[1;32m   1348\u001B[0m \u001B[38;5;66;03m# output variables are not necessarily known at this stage.\u001B[39;00m\n\u001B[1;32m   1349\u001B[0m operator\u001B[38;5;241m.\u001B[39minit_status(is_evaluated\u001B[38;5;241m=\u001B[39m\u001B[38;5;28;01mTrue\u001B[39;00m)\n",
      "File \u001B[0;32m/Library/Frameworks/Python.framework/Versions/3.9/lib/python3.9/site-packages/skl2onnx/common/_topology.py:1128\u001B[0m, in \u001B[0;36mTopology.call_converter\u001B[0;34m(self, operator, container, verbose)\u001B[0m\n\u001B[1;32m   1121\u001B[0m     \u001B[38;5;28mprint\u001B[39m(\u001B[38;5;124m\"\u001B[39m\u001B[38;5;124m[call_converter] call converter for \u001B[39m\u001B[38;5;132;01m%r\u001B[39;00m\u001B[38;5;124m.\u001B[39m\u001B[38;5;124m\"\u001B[39m \u001B[38;5;241m%\u001B[39m operator\u001B[38;5;241m.\u001B[39mtype)\n\u001B[1;32m   1122\u001B[0m logger\u001B[38;5;241m.\u001B[39mdebug(\n\u001B[1;32m   1123\u001B[0m     \u001B[38;5;124m\"\u001B[39m\u001B[38;5;124m[Conv] call \u001B[39m\u001B[38;5;132;01m%r\u001B[39;00m\u001B[38;5;124m fed \u001B[39m\u001B[38;5;132;01m%r\u001B[39;00m\u001B[38;5;124m - \u001B[39m\u001B[38;5;132;01m%r\u001B[39;00m\u001B[38;5;124m\"\u001B[39m,\n\u001B[1;32m   1124\u001B[0m     operator,\n\u001B[1;32m   1125\u001B[0m     \u001B[38;5;124m\"\u001B[39m\u001B[38;5;124m\"\u001B[39m\u001B[38;5;241m.\u001B[39mjoin(\u001B[38;5;28mstr\u001B[39m(i\u001B[38;5;241m.\u001B[39mis_fed) \u001B[38;5;28;01mfor\u001B[39;00m i \u001B[38;5;129;01min\u001B[39;00m operator\u001B[38;5;241m.\u001B[39minputs),\n\u001B[1;32m   1126\u001B[0m     \u001B[38;5;124m\"\u001B[39m\u001B[38;5;124m\"\u001B[39m\u001B[38;5;241m.\u001B[39mjoin(\u001B[38;5;28mstr\u001B[39m(i\u001B[38;5;241m.\u001B[39mis_fed) \u001B[38;5;28;01mfor\u001B[39;00m i \u001B[38;5;129;01min\u001B[39;00m operator\u001B[38;5;241m.\u001B[39moutputs),\n\u001B[1;32m   1127\u001B[0m )\n\u001B[0;32m-> 1128\u001B[0m \u001B[43mconv\u001B[49m\u001B[43m(\u001B[49m\u001B[38;5;28;43mself\u001B[39;49m\u001B[38;5;241;43m.\u001B[39;49m\u001B[43mscopes\u001B[49m\u001B[43m[\u001B[49m\u001B[38;5;241;43m0\u001B[39;49m\u001B[43m]\u001B[49m\u001B[43m,\u001B[49m\u001B[43m \u001B[49m\u001B[43moperator\u001B[49m\u001B[43m,\u001B[49m\u001B[43m \u001B[49m\u001B[43mcontainer\u001B[49m\u001B[43m)\u001B[49m\n\u001B[1;32m   1129\u001B[0m logger\u001B[38;5;241m.\u001B[39mdebug(\u001B[38;5;124m\"\u001B[39m\u001B[38;5;124m[Conv] end - \u001B[39m\u001B[38;5;132;01m%r\u001B[39;00m\u001B[38;5;124m\"\u001B[39m, operator)\n",
      "File \u001B[0;32m/Library/Frameworks/Python.framework/Versions/3.9/lib/python3.9/site-packages/skl2onnx/common/_registration.py:26\u001B[0m, in \u001B[0;36mRegisteredConverter.__call__\u001B[0;34m(self, *args)\u001B[0m\n\u001B[1;32m     19\u001B[0m \u001B[38;5;28;01mif\u001B[39;00m (\n\u001B[1;32m     20\u001B[0m     \u001B[38;5;28mlen\u001B[39m(args) \u001B[38;5;241m==\u001B[39m \u001B[38;5;241m3\u001B[39m\n\u001B[1;32m     21\u001B[0m     \u001B[38;5;129;01mand\u001B[39;00m \u001B[38;5;28mhasattr\u001B[39m(args[\u001B[38;5;241m2\u001B[39m], \u001B[38;5;124m\"\u001B[39m\u001B[38;5;124m_get_allowed_options\u001B[39m\u001B[38;5;124m\"\u001B[39m)\n\u001B[1;32m     22\u001B[0m     \u001B[38;5;129;01mand\u001B[39;00m \u001B[38;5;28mhasattr\u001B[39m(args[\u001B[38;5;241m1\u001B[39m], \u001B[38;5;124m\"\u001B[39m\u001B[38;5;124mraw_operator\u001B[39m\u001B[38;5;124m\"\u001B[39m)\n\u001B[1;32m     23\u001B[0m ) \u001B[38;5;129;01mand\u001B[39;00m args[\u001B[38;5;241m1\u001B[39m]\u001B[38;5;241m.\u001B[39mraw_operator \u001B[38;5;129;01mis\u001B[39;00m \u001B[38;5;129;01mnot\u001B[39;00m \u001B[38;5;28;01mNone\u001B[39;00m:\n\u001B[1;32m     24\u001B[0m     \u001B[38;5;66;03m# Checks that the user did not specify a wrong option.\u001B[39;00m\n\u001B[1;32m     25\u001B[0m     args[\u001B[38;5;241m2\u001B[39m]\u001B[38;5;241m.\u001B[39m_get_allowed_options(args[\u001B[38;5;241m1\u001B[39m]\u001B[38;5;241m.\u001B[39mraw_operator)\n\u001B[0;32m---> 26\u001B[0m \u001B[38;5;28;01mreturn\u001B[39;00m \u001B[38;5;28;43mself\u001B[39;49m\u001B[38;5;241;43m.\u001B[39;49m\u001B[43m_fct\u001B[49m\u001B[43m(\u001B[49m\u001B[38;5;241;43m*\u001B[39;49m\u001B[43margs\u001B[49m\u001B[43m)\u001B[49m\n",
      "File \u001B[0;32m/Library/Frameworks/Python.framework/Versions/3.9/lib/python3.9/site-packages/onnxmltools/convert/xgboost/operator_converters/XGBoost.py:434\u001B[0m, in \u001B[0;36mconvert_xgboost\u001B[0;34m(scope, operator, container)\u001B[0m\n\u001B[1;32m    432\u001B[0m     \u001B[38;5;28mcls\u001B[39m \u001B[38;5;241m=\u001B[39m XGBRegressorConverter\n\u001B[1;32m    433\u001B[0m \u001B[38;5;28mcls\u001B[39m\u001B[38;5;241m.\u001B[39mvalidate(xgb_node)\n\u001B[0;32m--> 434\u001B[0m \u001B[38;5;28;43mcls\u001B[39;49m\u001B[38;5;241;43m.\u001B[39;49m\u001B[43mconvert\u001B[49m\u001B[43m(\u001B[49m\u001B[43mscope\u001B[49m\u001B[43m,\u001B[49m\u001B[43m \u001B[49m\u001B[43moperator\u001B[49m\u001B[43m,\u001B[49m\u001B[43m \u001B[49m\u001B[43mcontainer\u001B[49m\u001B[43m)\u001B[49m\n",
      "File \u001B[0;32m/Library/Frameworks/Python.framework/Versions/3.9/lib/python3.9/site-packages/onnxmltools/convert/xgboost/operator_converters/XGBoost.py:310\u001B[0m, in \u001B[0;36mXGBClassifierConverter.convert\u001B[0;34m(scope, operator, container)\u001B[0m\n\u001B[1;32m    307\u001B[0m num_class \u001B[38;5;241m=\u001B[39m params\u001B[38;5;241m.\u001B[39mget(\u001B[38;5;124m\"\u001B[39m\u001B[38;5;124mnum_class\u001B[39m\u001B[38;5;124m\"\u001B[39m, \u001B[38;5;28;01mNone\u001B[39;00m)\n\u001B[1;32m    309\u001B[0m attr_pairs \u001B[38;5;241m=\u001B[39m XGBClassifierConverter\u001B[38;5;241m.\u001B[39m_get_default_tree_attribute_pairs()\n\u001B[0;32m--> 310\u001B[0m \u001B[43mXGBConverter\u001B[49m\u001B[38;5;241;43m.\u001B[39;49m\u001B[43mfill_tree_attributes\u001B[49m\u001B[43m(\u001B[49m\n\u001B[1;32m    311\u001B[0m \u001B[43m    \u001B[49m\u001B[43mjs_trees\u001B[49m\u001B[43m,\u001B[49m\u001B[43m \u001B[49m\u001B[43mattr_pairs\u001B[49m\u001B[43m,\u001B[49m\u001B[43m \u001B[49m\u001B[43m[\u001B[49m\u001B[38;5;241;43m1\u001B[39;49m\u001B[43m \u001B[49m\u001B[38;5;28;43;01mfor\u001B[39;49;00m\u001B[43m \u001B[49m\u001B[43m_\u001B[49m\u001B[43m \u001B[49m\u001B[38;5;129;43;01min\u001B[39;49;00m\u001B[43m \u001B[49m\u001B[43mjs_trees\u001B[49m\u001B[43m]\u001B[49m\u001B[43m,\u001B[49m\u001B[43m \u001B[49m\u001B[38;5;28;43;01mTrue\u001B[39;49;00m\n\u001B[1;32m    312\u001B[0m \u001B[43m\u001B[49m\u001B[43m)\u001B[49m\n\u001B[1;32m    313\u001B[0m \u001B[38;5;28;01mif\u001B[39;00m num_class \u001B[38;5;129;01mis\u001B[39;00m \u001B[38;5;129;01mnot\u001B[39;00m \u001B[38;5;28;01mNone\u001B[39;00m:\n\u001B[1;32m    314\u001B[0m     ncl \u001B[38;5;241m=\u001B[39m num_class\n",
      "File \u001B[0;32m/Library/Frameworks/Python.framework/Versions/3.9/lib/python3.9/site-packages/onnxmltools/convert/xgboost/operator_converters/XGBoost.py:219\u001B[0m, in \u001B[0;36mXGBConverter.fill_tree_attributes\u001B[0;34m(js_xgb_node, attr_pairs, tree_weights, is_classifier)\u001B[0m\n\u001B[1;32m    217\u001B[0m \u001B[38;5;28;01mfor\u001B[39;00m treeid, (jstree, w) \u001B[38;5;129;01min\u001B[39;00m \u001B[38;5;28menumerate\u001B[39m(\u001B[38;5;28mzip\u001B[39m(js_xgb_node, tree_weights)):\n\u001B[1;32m    218\u001B[0m     remap \u001B[38;5;241m=\u001B[39m XGBConverter\u001B[38;5;241m.\u001B[39m_remap_nodeid(jstree)\n\u001B[0;32m--> 219\u001B[0m     \u001B[43mXGBConverter\u001B[49m\u001B[38;5;241;43m.\u001B[39;49m\u001B[43m_fill_node_attributes\u001B[49m\u001B[43m(\u001B[49m\n\u001B[1;32m    220\u001B[0m \u001B[43m        \u001B[49m\u001B[43mtreeid\u001B[49m\u001B[43m,\u001B[49m\u001B[43m \u001B[49m\u001B[43mw\u001B[49m\u001B[43m,\u001B[49m\u001B[43m \u001B[49m\u001B[43mjstree\u001B[49m\u001B[43m,\u001B[49m\u001B[43m \u001B[49m\u001B[43mattr_pairs\u001B[49m\u001B[43m,\u001B[49m\u001B[43m \u001B[49m\u001B[43mis_classifier\u001B[49m\u001B[43m,\u001B[49m\u001B[43m \u001B[49m\u001B[43mremap\u001B[49m\n\u001B[1;32m    221\u001B[0m \u001B[43m    \u001B[49m\u001B[43m)\u001B[49m\n",
      "File \u001B[0;32m/Library/Frameworks/Python.framework/Versions/3.9/lib/python3.9/site-packages/onnxmltools/convert/xgboost/operator_converters/XGBoost.py:157\u001B[0m, in \u001B[0;36mXGBConverter._fill_node_attributes\u001B[0;34m(treeid, tree_weight, jsnode, attr_pairs, is_classifier, remap)\u001B[0m\n\u001B[1;32m    152\u001B[0m \u001B[38;5;129m@staticmethod\u001B[39m\n\u001B[1;32m    153\u001B[0m \u001B[38;5;28;01mdef\u001B[39;00m\u001B[38;5;250m \u001B[39m\u001B[38;5;21m_fill_node_attributes\u001B[39m(\n\u001B[1;32m    154\u001B[0m     treeid, tree_weight, jsnode, attr_pairs, is_classifier, remap\n\u001B[1;32m    155\u001B[0m ):\n\u001B[1;32m    156\u001B[0m     \u001B[38;5;28;01mif\u001B[39;00m \u001B[38;5;124m\"\u001B[39m\u001B[38;5;124mchildren\u001B[39m\u001B[38;5;124m\"\u001B[39m \u001B[38;5;129;01min\u001B[39;00m jsnode:\n\u001B[0;32m--> 157\u001B[0m         \u001B[43mXGBConverter\u001B[49m\u001B[38;5;241;43m.\u001B[39;49m\u001B[43m_add_node\u001B[49m\u001B[43m(\u001B[49m\n\u001B[1;32m    158\u001B[0m \u001B[43m            \u001B[49m\u001B[43mattr_pairs\u001B[49m\u001B[38;5;241;43m=\u001B[39;49m\u001B[43mattr_pairs\u001B[49m\u001B[43m,\u001B[49m\n\u001B[1;32m    159\u001B[0m \u001B[43m            \u001B[49m\u001B[43mis_classifier\u001B[49m\u001B[38;5;241;43m=\u001B[39;49m\u001B[43mis_classifier\u001B[49m\u001B[43m,\u001B[49m\n\u001B[1;32m    160\u001B[0m \u001B[43m            \u001B[49m\u001B[43mtree_id\u001B[49m\u001B[38;5;241;43m=\u001B[39;49m\u001B[43mtreeid\u001B[49m\u001B[43m,\u001B[49m\n\u001B[1;32m    161\u001B[0m \u001B[43m            \u001B[49m\u001B[43mtree_weight\u001B[49m\u001B[38;5;241;43m=\u001B[39;49m\u001B[43mtree_weight\u001B[49m\u001B[43m,\u001B[49m\n\u001B[1;32m    162\u001B[0m \u001B[43m            \u001B[49m\u001B[43mvalue\u001B[49m\u001B[38;5;241;43m=\u001B[39;49m\u001B[43mjsnode\u001B[49m\u001B[43m[\u001B[49m\u001B[38;5;124;43m\"\u001B[39;49m\u001B[38;5;124;43msplit_condition\u001B[39;49m\u001B[38;5;124;43m\"\u001B[39;49m\u001B[43m]\u001B[49m\u001B[43m,\u001B[49m\n\u001B[1;32m    163\u001B[0m \u001B[43m            \u001B[49m\u001B[43mnode_id\u001B[49m\u001B[38;5;241;43m=\u001B[39;49m\u001B[43mremap\u001B[49m\u001B[43m[\u001B[49m\u001B[43mjsnode\u001B[49m\u001B[43m[\u001B[49m\u001B[38;5;124;43m\"\u001B[39;49m\u001B[38;5;124;43mnodeid\u001B[39;49m\u001B[38;5;124;43m\"\u001B[39;49m\u001B[43m]\u001B[49m\u001B[43m]\u001B[49m\u001B[43m,\u001B[49m\n\u001B[1;32m    164\u001B[0m \u001B[43m            \u001B[49m\u001B[43mfeature_id\u001B[49m\u001B[38;5;241;43m=\u001B[39;49m\u001B[43mjsnode\u001B[49m\u001B[43m[\u001B[49m\u001B[38;5;124;43m\"\u001B[39;49m\u001B[38;5;124;43msplit\u001B[39;49m\u001B[38;5;124;43m\"\u001B[39;49m\u001B[43m]\u001B[49m\u001B[43m,\u001B[49m\n\u001B[1;32m    165\u001B[0m \u001B[43m            \u001B[49m\u001B[43mmode\u001B[49m\u001B[38;5;241;43m=\u001B[39;49m\u001B[38;5;124;43m\"\u001B[39;49m\u001B[38;5;124;43mBRANCH_LT\u001B[39;49m\u001B[38;5;124;43m\"\u001B[39;49m\u001B[43m,\u001B[49m\u001B[43m  \u001B[49m\u001B[38;5;66;43;03m# 'BRANCH_LEQ' --> is for sklearn\u001B[39;49;00m\n\u001B[1;32m    166\u001B[0m \u001B[43m            \u001B[49m\u001B[43mtrue_child_id\u001B[49m\u001B[38;5;241;43m=\u001B[39;49m\u001B[43mremap\u001B[49m\u001B[43m[\u001B[49m\u001B[43mjsnode\u001B[49m\u001B[43m[\u001B[49m\u001B[38;5;124;43m\"\u001B[39;49m\u001B[38;5;124;43myes\u001B[39;49m\u001B[38;5;124;43m\"\u001B[39;49m\u001B[43m]\u001B[49m\u001B[43m]\u001B[49m\u001B[43m,\u001B[49m\u001B[43m  \u001B[49m\u001B[38;5;66;43;03m# ['children'][0]['nodeid'],\u001B[39;49;00m\n\u001B[1;32m    167\u001B[0m \u001B[43m            \u001B[49m\u001B[43mfalse_child_id\u001B[49m\u001B[38;5;241;43m=\u001B[39;49m\u001B[43mremap\u001B[49m\u001B[43m[\u001B[49m\u001B[43mjsnode\u001B[49m\u001B[43m[\u001B[49m\u001B[38;5;124;43m\"\u001B[39;49m\u001B[38;5;124;43mno\u001B[39;49m\u001B[38;5;124;43m\"\u001B[39;49m\u001B[43m]\u001B[49m\u001B[43m]\u001B[49m\u001B[43m,\u001B[49m\u001B[43m  \u001B[49m\u001B[38;5;66;43;03m# ['children'][1]['nodeid'],\u001B[39;49;00m\n\u001B[1;32m    168\u001B[0m \u001B[43m            \u001B[49m\u001B[43mweights\u001B[49m\u001B[38;5;241;43m=\u001B[39;49m\u001B[38;5;28;43;01mNone\u001B[39;49;00m\u001B[43m,\u001B[49m\n\u001B[1;32m    169\u001B[0m \u001B[43m            \u001B[49m\u001B[43mweight_id_bias\u001B[49m\u001B[38;5;241;43m=\u001B[39;49m\u001B[38;5;28;43;01mNone\u001B[39;49;00m\u001B[43m,\u001B[49m\n\u001B[1;32m    170\u001B[0m \u001B[43m            \u001B[49m\u001B[43mmissing\u001B[49m\u001B[38;5;241;43m=\u001B[39;49m\u001B[43mjsnode\u001B[49m\u001B[38;5;241;43m.\u001B[39;49m\u001B[43mget\u001B[49m\u001B[43m(\u001B[49m\u001B[38;5;124;43m\"\u001B[39;49m\u001B[38;5;124;43mmissing\u001B[39;49m\u001B[38;5;124;43m\"\u001B[39;49m\u001B[43m,\u001B[49m\u001B[43m \u001B[49m\u001B[38;5;241;43m-\u001B[39;49m\u001B[38;5;241;43m1\u001B[39;49m\u001B[43m)\u001B[49m\u001B[43m \u001B[49m\u001B[38;5;241;43m==\u001B[39;49m\u001B[43m \u001B[49m\u001B[43mjsnode\u001B[49m\u001B[43m[\u001B[49m\u001B[38;5;124;43m\"\u001B[39;49m\u001B[38;5;124;43myes\u001B[39;49m\u001B[38;5;124;43m\"\u001B[39;49m\u001B[43m]\u001B[49m\u001B[43m,\u001B[49m\n\u001B[1;32m    171\u001B[0m \u001B[43m            \u001B[49m\u001B[43mhitrate\u001B[49m\u001B[38;5;241;43m=\u001B[39;49m\u001B[43mjsnode\u001B[49m\u001B[38;5;241;43m.\u001B[39;49m\u001B[43mget\u001B[49m\u001B[43m(\u001B[49m\u001B[38;5;124;43m\"\u001B[39;49m\u001B[38;5;124;43mcover\u001B[39;49m\u001B[38;5;124;43m\"\u001B[39;49m\u001B[43m,\u001B[49m\u001B[43m \u001B[49m\u001B[38;5;241;43m0\u001B[39;49m\u001B[43m)\u001B[49m\u001B[43m,\u001B[49m\n\u001B[1;32m    172\u001B[0m \u001B[43m        \u001B[49m\u001B[43m)\u001B[49m\n\u001B[1;32m    174\u001B[0m         \u001B[38;5;28;01mfor\u001B[39;00m ch \u001B[38;5;129;01min\u001B[39;00m jsnode[\u001B[38;5;124m\"\u001B[39m\u001B[38;5;124mchildren\u001B[39m\u001B[38;5;124m\"\u001B[39m]:\n\u001B[1;32m    175\u001B[0m             \u001B[38;5;28;01mif\u001B[39;00m \u001B[38;5;124m\"\u001B[39m\u001B[38;5;124mchildren\u001B[39m\u001B[38;5;124m\"\u001B[39m \u001B[38;5;129;01min\u001B[39;00m ch \u001B[38;5;129;01mor\u001B[39;00m \u001B[38;5;124m\"\u001B[39m\u001B[38;5;124mleaf\u001B[39m\u001B[38;5;124m\"\u001B[39m \u001B[38;5;129;01min\u001B[39;00m ch:\n",
      "File \u001B[0;32m/Library/Frameworks/Python.framework/Versions/3.9/lib/python3.9/site-packages/onnxmltools/convert/xgboost/operator_converters/XGBoost.py:116\u001B[0m, in \u001B[0;36mXGBConverter._add_node\u001B[0;34m(attr_pairs, is_classifier, tree_id, tree_weight, node_id, feature_id, mode, value, true_child_id, false_child_id, weights, weight_id_bias, missing, hitrate)\u001B[0m\n\u001B[1;32m    114\u001B[0m             feature_id \u001B[38;5;241m=\u001B[39m \u001B[38;5;28mint\u001B[39m(\u001B[38;5;28mfloat\u001B[39m(feature_id))\n\u001B[1;32m    115\u001B[0m         \u001B[38;5;28;01mexcept\u001B[39;00m \u001B[38;5;167;01mValueError\u001B[39;00m:\n\u001B[0;32m--> 116\u001B[0m             \u001B[38;5;28;01mraise\u001B[39;00m \u001B[38;5;167;01mRuntimeError\u001B[39;00m(\n\u001B[1;32m    117\u001B[0m                 \u001B[38;5;124m\"\u001B[39m\u001B[38;5;124mUnable to interpret \u001B[39m\u001B[38;5;124m'\u001B[39m\u001B[38;5;132;01m{0}\u001B[39;00m\u001B[38;5;124m'\u001B[39m\u001B[38;5;124m, feature \u001B[39m\u001B[38;5;124m\"\u001B[39m\n\u001B[1;32m    118\u001B[0m                 \u001B[38;5;124m\"\u001B[39m\u001B[38;5;124mnames should follow pattern \u001B[39m\u001B[38;5;124m'\u001B[39m\u001B[38;5;124mf\u001B[39m\u001B[38;5;132;01m%d\u001B[39;00m\u001B[38;5;124m'\u001B[39m\u001B[38;5;124m.\u001B[39m\u001B[38;5;124m\"\u001B[39m\u001B[38;5;241m.\u001B[39mformat(feature_id)\n\u001B[1;32m    119\u001B[0m             )\n\u001B[1;32m    121\u001B[0m \u001B[38;5;66;03m# Split condition for sklearn\u001B[39;00m\n\u001B[1;32m    122\u001B[0m \u001B[38;5;66;03m# * if X_ptr[X_sample_stride * i + X_fx_stride * node.feature] <= node.threshold:\u001B[39;00m\n\u001B[1;32m    123\u001B[0m \u001B[38;5;66;03m# * https://github.com/scikit-learn/scikit-learn/blob/main/sklearn/tree/_tree.pyx#L946\u001B[39;00m\n\u001B[1;32m    124\u001B[0m \u001B[38;5;66;03m# Split condition for xgboost\u001B[39;00m\n\u001B[1;32m    125\u001B[0m \u001B[38;5;66;03m# * if (fvalue < split_value)\u001B[39;00m\n\u001B[1;32m    126\u001B[0m \u001B[38;5;66;03m# * https://github.com/dmlc/xgboost/blob/main/include/xgboost/tree_model.h#L804\u001B[39;00m\n\u001B[1;32m    128\u001B[0m attr_pairs[\u001B[38;5;124m\"\u001B[39m\u001B[38;5;124mnodes_treeids\u001B[39m\u001B[38;5;124m\"\u001B[39m]\u001B[38;5;241m.\u001B[39mappend(tree_id)\n",
      "\u001B[0;31mRuntimeError\u001B[0m: Unable to interpret 'nb_hyperlinks', feature names should follow pattern 'f%d'."
     ]
    }
   ],
   "execution_count": 55
  },
  {
   "metadata": {
    "ExecuteTime": {
     "end_time": "2025-05-10T20:39:57.381325Z",
     "start_time": "2025-05-10T20:39:57.049134Z"
    }
   },
   "cell_type": "code",
   "source": [
    "import skl2onnx\n",
    "from skl2onnx.common.data_types import FloatTensorType\n",
    "\n",
    "initial_type = [('float_input', FloatTensorType([None, X_train.shape[1]]))]\n",
    "onnx_model = skl2onnx.convert_sklearn(best_xgb, initial_types=initial_type, target_opset={\"\": 12, \"ai.onnx.ml\": 3})\n",
    "\n",
    "# Save model\n",
    "with open(\"xgb.onnx\", \"wb\") as f:\n",
    "    f.write(onnx_model.SerializeToString())\n"
   ],
   "id": "1fb3675d530ab5c8",
   "outputs": [],
   "execution_count": 65
  },
  {
   "metadata": {
    "ExecuteTime": {
     "end_time": "2025-05-13T19:03:43.171344Z",
     "start_time": "2025-05-13T19:03:42.684855Z"
    }
   },
   "cell_type": "code",
   "source": "urls = pd.read_csv(\"data/dataset.csv\")",
   "id": "abf55294c4dcef03",
   "outputs": [
    {
     "name": "stderr",
     "output_type": "stream",
     "text": [
      "/var/folders/02/q__yg7mx1cn27p_3747mry900000gn/T/ipykernel_7954/2292731433.py:1: DtypeWarning: Columns (1,33) have mixed types. Specify dtype option on import or set low_memory=False.\n",
      "  urls = pd.read_csv(\"data/dataset.csv\")\n"
     ]
    }
   ],
   "execution_count": 26
  },
  {
   "metadata": {
    "ExecuteTime": {
     "end_time": "2025-05-13T19:03:43.193343Z",
     "start_time": "2025-05-13T19:03:43.190169Z"
    }
   },
   "cell_type": "code",
   "source": "urls.shape",
   "id": "49bc519b32a0501f",
   "outputs": [
    {
     "data": {
      "text/plain": [
       "(223921, 34)"
      ]
     },
     "execution_count": 27,
     "metadata": {},
     "output_type": "execute_result"
    }
   ],
   "execution_count": 27
  },
  {
   "metadata": {
    "ExecuteTime": {
     "end_time": "2025-05-13T19:03:43.237272Z",
     "start_time": "2025-05-13T19:03:43.207538Z"
    }
   },
   "cell_type": "code",
   "source": "urls = urls[urls[\"length_hostname\"] != \"invalid\"]",
   "id": "da19fe2800031341",
   "outputs": [],
   "execution_count": 28
  },
  {
   "metadata": {
    "ExecuteTime": {
     "end_time": "2025-05-13T19:03:43.409157Z",
     "start_time": "2025-05-13T19:03:43.406540Z"
    }
   },
   "cell_type": "code",
   "source": "urls.shape",
   "id": "dcfd32da2ddf8680",
   "outputs": [
    {
     "data": {
      "text/plain": [
       "(97813, 34)"
      ]
     },
     "execution_count": 29,
     "metadata": {},
     "output_type": "execute_result"
    }
   ],
   "execution_count": 29
  },
  {
   "metadata": {
    "ExecuteTime": {
     "end_time": "2025-05-13T19:03:43.833046Z",
     "start_time": "2025-05-13T19:03:43.799654Z"
    }
   },
   "cell_type": "code",
   "source": "urls = urls[urls[\"status\"] != \"invalid\"]",
   "id": "57f40fb8db4a50be",
   "outputs": [],
   "execution_count": 30
  },
  {
   "metadata": {
    "ExecuteTime": {
     "end_time": "2025-05-13T19:03:44.518697Z",
     "start_time": "2025-05-13T19:03:44.515356Z"
    }
   },
   "cell_type": "code",
   "source": "urls.shape",
   "id": "ec8ade2445ad10b9",
   "outputs": [
    {
     "data": {
      "text/plain": [
       "(89315, 34)"
      ]
     },
     "execution_count": 31,
     "metadata": {},
     "output_type": "execute_result"
    }
   ],
   "execution_count": 31
  },
  {
   "metadata": {
    "ExecuteTime": {
     "end_time": "2025-05-13T19:04:38.428751Z",
     "start_time": "2025-05-13T19:04:38.382183Z"
    }
   },
   "cell_type": "code",
   "source": "urls[urls[\"status\"] == \"phishing\"].shape",
   "id": "dd9bb88ca42aeb48",
   "outputs": [
    {
     "data": {
      "text/plain": [
       "(49103, 34)"
      ]
     },
     "execution_count": 34,
     "metadata": {},
     "output_type": "execute_result"
    }
   ],
   "execution_count": 34
  },
  {
   "metadata": {
    "ExecuteTime": {
     "end_time": "2025-05-13T19:06:01.797350Z",
     "start_time": "2025-05-13T19:06:01.786805Z"
    }
   },
   "cell_type": "code",
   "source": [
    "# print all values of status column\n",
    "urls[\"status\"].unique()"
   ],
   "id": "a46d639344f4eb03",
   "outputs": [
    {
     "data": {
      "text/plain": [
       "array(['phishing', '0.0', '1.0', 'legitimate'], dtype=object)"
      ]
     },
     "execution_count": 39,
     "metadata": {},
     "output_type": "execute_result"
    }
   ],
   "execution_count": 39
  },
  {
   "metadata": {
    "ExecuteTime": {
     "end_time": "2025-05-13T19:55:41.912655Z",
     "start_time": "2025-05-13T19:55:41.872508Z"
    }
   },
   "cell_type": "code",
   "source": [
    "legitimate_urls = urls[urls[\"status\"] == \"legitimate\"]\n",
    "phishing_urls = urls[urls[\"status\"] == \"phishing\"]"
   ],
   "id": "e8f98ae6bf646e5e",
   "outputs": [],
   "execution_count": 47
  },
  {
   "metadata": {
    "ExecuteTime": {
     "end_time": "2025-05-13T19:58:08.769562Z",
     "start_time": "2025-05-13T19:58:08.019629Z"
    }
   },
   "cell_type": "code",
   "source": [
    "# save concatenated dataframe to csv\n",
    "concatenated_urls = pd.concat([legitimate_urls, phishing_urls])\n",
    "concatenated_urls.to_csv(\"data/urls_with_features.csv\", index=False)"
   ],
   "id": "36371d07e89ca52b",
   "outputs": [],
   "execution_count": 50
  },
  {
   "metadata": {},
   "cell_type": "code",
   "outputs": [],
   "execution_count": null,
   "source": "",
   "id": "16fca99e3223a429"
  }
 ],
 "metadata": {
  "kernelspec": {
   "display_name": "Python 3",
   "language": "python",
   "name": "python3"
  },
  "language_info": {
   "codemirror_mode": {
    "name": "ipython",
    "version": 2
   },
   "file_extension": ".py",
   "mimetype": "text/x-python",
   "name": "python",
   "nbconvert_exporter": "python",
   "pygments_lexer": "ipython2",
   "version": "2.7.6"
  }
 },
 "nbformat": 4,
 "nbformat_minor": 5
}
