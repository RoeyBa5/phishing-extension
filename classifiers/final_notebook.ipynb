{
 "cells": [
  {
   "metadata": {},
   "cell_type": "markdown",
   "source": "# Preprocessing",
   "id": "6b9bb9cc786e6a6a"
  },
  {
   "metadata": {
    "collapsed": true
   },
   "cell_type": "code",
   "outputs": [],
   "execution_count": null,
   "source": [
    "from __future__ import annotations\n",
    "\n",
    "import asyncio\n",
    "\n",
    "\n",
    "async def validate_urls():\n",
    "    urls = pd.read_csv(\"urls2.csv\")\n",
    "    handled_urls = pd.read_csv(\"dataset.csv\")\n",
    "    # remove duplicates\n",
    "    urls = urls[~urls[\"url\"].isin(handled_urls[\"url\"])]\n",
    "    urls = urls[urls[\"is_spam\"] == False]\n",
    "    tasks = []\n",
    "    # iterate phishing_urld in batches of size 100\n",
    "    for i in range(0, len(urls), 1000):\n",
    "        batch = urls.iloc[i: i + 1000]\n",
    "        for index, record in batch.iterrows():\n",
    "            url = record[\"url\"]\n",
    "            tasks.append(get_features(url))\n",
    "        results = await gather(*tasks, limit=500)\n",
    "        dataset = pd.DataFrame(results)\n",
    "        # save to dataset.csv in the end\n",
    "        dataset.to_csv(\"dataset.csv\", mode=\"a\", header=False, index=False)\n",
    "        tasks = []\n",
    "\n",
    "\n",
    "async def get_features(url) -> dict | None:\n",
    "    async with aiohttp.ClientSession() as session:\n",
    "        try:\n",
    "            res = await session.get(url)\n",
    "            valid = True\n",
    "            html = await res.text()\n",
    "            res.close()\n",
    "        except Exception:\n",
    "            valid = False\n",
    "    if not valid:\n",
    "        return {\n",
    "            \"url\": url,\n",
    "            \"status\": \"invalid\",\n",
    "        }\n",
    "    features = extract_features_from_url(url, html)\n",
    "    return {\n",
    "        \"url\": url\n",
    "    } | features | {\"status\": \"legitimate\"}\n",
    "\n",
    "\n",
    "asyncio.run(validate_urls())"
   ],
   "id": "initial_id"
  },
  {
   "metadata": {},
   "cell_type": "markdown",
   "source": "## Add URL Bert classifcaiton",
   "id": "80976a4001fa2b33"
  },
  {
   "metadata": {},
   "cell_type": "code",
   "outputs": [],
   "execution_count": null,
   "source": [
    "import asyncio\n",
    "\n",
    "import aiohttp\n",
    "import pandas as pd\n",
    "from aioitertools.asyncio import gather\n",
    "\n",
    "from classifiers.extractors.feature_extractor import extract_features_from_url\n",
    "\n",
    "from transformers import BertTokenizerFast, BertForSequenceClassification, pipeline\n",
    "import torch\n",
    "\n",
    "device = torch.device('cuda' if torch.cuda.is_available() else 'cpu')\n",
    "\n",
    "model_name = \"CrabInHoney/urlbert-tiny-v4-phishing-classifier\"\n",
    "\n",
    "tokenizer = BertTokenizerFast.from_pretrained(model_name)\n",
    "model = BertForSequenceClassification.from_pretrained(model_name)\n",
    "model.to(device)\n",
    "\n",
    "classifier = pipeline(\n",
    "    \"text-classification\",\n",
    "    model=model,\n",
    "    tokenizer=tokenizer,\n",
    "    device=0 if torch.cuda.is_available() else -1,\n",
    "    return_all_scores=True\n",
    ")\n",
    "\n",
    "\n",
    "async def add_url_bert_classification():\n",
    "    urls = pd.read_csv(\"urls_with_features.csv\")\n",
    "    urls[\"url_bert_classification\"] = None\n",
    "    unhandled_urls = urls[urls[\"url_bert_classification\"].isna()]\n",
    "    counter = 0\n",
    "    for index, record in unhandled_urls.iterrows():\n",
    "        url = record[\"url\"]\n",
    "        try:\n",
    "            result = classifier(url)\n",
    "            label_1_score = result[0][1]['score']\n",
    "            urls.at[index, \"url_bert_classification\"] = label_1_score\n",
    "        except Exception as e:\n",
    "            urls.at[index, \"url_bert_classification\"] = str(e)\n",
    "\n",
    "        if counter == 100:\n",
    "            urls.to_csv(\"urls_with_features_and_url_classification.csv\", index=False)\n",
    "            counter = 0\n",
    "        more_to_go = urls[urls[\"url_bert_classification\"].isna()].shape[0]\n",
    "        if more_to_go % 1000 == 0:\n",
    "            print(f\"{more_to_go} urls left to process\")\n",
    "        counter += 1\n",
    "\n",
    "\n",
    "asyncio.run(add_url_bert_classification())"
   ],
   "id": "20fa68fbdd62430c"
  },
  {
   "metadata": {},
   "cell_type": "markdown",
   "source": "# Tests - Compare the models",
   "id": "9eb7f197c84a356c"
  },
  {
   "metadata": {
    "ExecuteTime": {
     "end_time": "2025-05-17T13:41:37.217123Z",
     "start_time": "2025-05-17T13:41:36.908283Z"
    }
   },
   "cell_type": "code",
   "source": [
    "import pandas as pd\n",
    "\n",
    "df = pd.read_csv('data/urls_with_features_and_url_classification.csv')"
   ],
   "id": "8d2425c96444a81c",
   "outputs": [],
   "execution_count": 31
  },
  {
   "metadata": {
    "ExecuteTime": {
     "end_time": "2025-05-17T13:41:41.357991Z",
     "start_time": "2025-05-17T13:41:41.281128Z"
    }
   },
   "cell_type": "code",
   "source": "df",
   "id": "d96a92661e089055",
   "outputs": [
    {
     "data": {
      "text/plain": [
       "                                                     url  length_hostname  \\\n",
       "0                            https://www.omnihotels.com/             18.0   \n",
       "1                                   https://www.out.com/             11.0   \n",
       "2                                  https://get4click.ru/             12.0   \n",
       "3                                 https://www.iovox.com/             13.0   \n",
       "4                                https://www.bergfex.at/             14.0   \n",
       "...                                                  ...              ...   \n",
       "80818              http://webmailadmin0.myfreesites.net/             29.0   \n",
       "80819   http://www.ezblox.site/free/jennifer111/helpdesk             15.0   \n",
       "80820  http://www.formbuddy.com/cgi-bin/formdisp.pl?u...             17.0   \n",
       "80821       http://www.habbocreditosparati.blogspot.com/             36.0   \n",
       "80822  http://creditiperhabbogratissicuro100.blogspot...             43.0   \n",
       "\n",
       "        ip  nb_dots  nb_hyphens  nb_at  nb_qm  nb_eq  nb_underscore  nb_slash  \\\n",
       "0      0.0      2.0         0.0    0.0    0.0    0.0            0.0       3.0   \n",
       "1      0.0      2.0         0.0    0.0    0.0    0.0            0.0       3.0   \n",
       "2      0.0      1.0         0.0    0.0    0.0    0.0            0.0       3.0   \n",
       "3      0.0      2.0         0.0    0.0    0.0    0.0            0.0       3.0   \n",
       "4      0.0      2.0         0.0    0.0    0.0    0.0            0.0       3.0   \n",
       "...    ...      ...         ...    ...    ...    ...            ...       ...   \n",
       "80818  0.0      2.0         0.0    0.0    0.0    0.0            0.0       3.0   \n",
       "80819  0.0      2.0         0.0    0.0    0.0    0.0            0.0       5.0   \n",
       "80820  0.0      3.0         1.0    0.0    1.0    2.0            0.0       4.0   \n",
       "80821  0.0      3.0         0.0    0.0    0.0    0.0            0.0       3.0   \n",
       "80822  0.0      3.0         4.0    0.0    0.0    0.0            0.0       5.0   \n",
       "\n",
       "       ...  external_favicon  links_in_tags  safe_anchor  empty_title  \\\n",
       "0      ...               0.0          160.0          7.0          0.0   \n",
       "1      ...               1.0          196.0          2.0          0.0   \n",
       "2      ...               0.0           47.0          1.0          0.0   \n",
       "3      ...               0.0          108.0          3.0          0.0   \n",
       "4      ...               0.0          265.0         11.0          0.0   \n",
       "...    ...               ...            ...          ...          ...   \n",
       "80818  ...               1.0           14.0          0.0          0.0   \n",
       "80819  ...               1.0           16.0          0.0          0.0   \n",
       "80820  ...               0.0            1.0          0.0          0.0   \n",
       "80821  ...               1.0           26.0          1.0          0.0   \n",
       "80822  ...               0.0           32.0          3.0          0.0   \n",
       "\n",
       "       domain_in_title  domain_with_copyright  external_brand_logo  \\\n",
       "0                  0.0                    0.0                  0.0   \n",
       "1                  0.0                    0.0                  0.0   \n",
       "2                  1.0                    0.0                  1.0   \n",
       "3                  0.0                    0.0                  1.0   \n",
       "4                  0.0                    0.0                  0.0   \n",
       "...                ...                    ...                  ...   \n",
       "80818              0.0                    0.0                  0.0   \n",
       "80819              0.0                    0.0                  0.0   \n",
       "80820              0.0                    0.0                  0.0   \n",
       "80821              0.0                    0.0                  1.0   \n",
       "80822              0.0                    0.0                  0.0   \n",
       "\n",
       "       suspicious_js_patterns      status  url_bert_classification  \n",
       "0                         0.0  legitimate       0.7218989133834839  \n",
       "1                         0.0  legitimate    0.0030340133234858513  \n",
       "2                         0.0  legitimate      0.34836170077323914  \n",
       "3                         0.0  legitimate     0.046591758728027344  \n",
       "4                         0.0  legitimate      0.00636637257412076  \n",
       "...                       ...         ...                      ...  \n",
       "80818                     0.0    phishing                      NaN  \n",
       "80819                     0.0    phishing                      NaN  \n",
       "80820                     0.0    phishing                      NaN  \n",
       "80821                     0.0    phishing                      NaN  \n",
       "80822                     0.0    phishing                      NaN  \n",
       "\n",
       "[80823 rows x 35 columns]"
      ],
      "text/html": [
       "<div>\n",
       "<style scoped>\n",
       "    .dataframe tbody tr th:only-of-type {\n",
       "        vertical-align: middle;\n",
       "    }\n",
       "\n",
       "    .dataframe tbody tr th {\n",
       "        vertical-align: top;\n",
       "    }\n",
       "\n",
       "    .dataframe thead th {\n",
       "        text-align: right;\n",
       "    }\n",
       "</style>\n",
       "<table border=\"1\" class=\"dataframe\">\n",
       "  <thead>\n",
       "    <tr style=\"text-align: right;\">\n",
       "      <th></th>\n",
       "      <th>url</th>\n",
       "      <th>length_hostname</th>\n",
       "      <th>ip</th>\n",
       "      <th>nb_dots</th>\n",
       "      <th>nb_hyphens</th>\n",
       "      <th>nb_at</th>\n",
       "      <th>nb_qm</th>\n",
       "      <th>nb_eq</th>\n",
       "      <th>nb_underscore</th>\n",
       "      <th>nb_slash</th>\n",
       "      <th>...</th>\n",
       "      <th>external_favicon</th>\n",
       "      <th>links_in_tags</th>\n",
       "      <th>safe_anchor</th>\n",
       "      <th>empty_title</th>\n",
       "      <th>domain_in_title</th>\n",
       "      <th>domain_with_copyright</th>\n",
       "      <th>external_brand_logo</th>\n",
       "      <th>suspicious_js_patterns</th>\n",
       "      <th>status</th>\n",
       "      <th>url_bert_classification</th>\n",
       "    </tr>\n",
       "  </thead>\n",
       "  <tbody>\n",
       "    <tr>\n",
       "      <th>0</th>\n",
       "      <td>https://www.omnihotels.com/</td>\n",
       "      <td>18.0</td>\n",
       "      <td>0.0</td>\n",
       "      <td>2.0</td>\n",
       "      <td>0.0</td>\n",
       "      <td>0.0</td>\n",
       "      <td>0.0</td>\n",
       "      <td>0.0</td>\n",
       "      <td>0.0</td>\n",
       "      <td>3.0</td>\n",
       "      <td>...</td>\n",
       "      <td>0.0</td>\n",
       "      <td>160.0</td>\n",
       "      <td>7.0</td>\n",
       "      <td>0.0</td>\n",
       "      <td>0.0</td>\n",
       "      <td>0.0</td>\n",
       "      <td>0.0</td>\n",
       "      <td>0.0</td>\n",
       "      <td>legitimate</td>\n",
       "      <td>0.7218989133834839</td>\n",
       "    </tr>\n",
       "    <tr>\n",
       "      <th>1</th>\n",
       "      <td>https://www.out.com/</td>\n",
       "      <td>11.0</td>\n",
       "      <td>0.0</td>\n",
       "      <td>2.0</td>\n",
       "      <td>0.0</td>\n",
       "      <td>0.0</td>\n",
       "      <td>0.0</td>\n",
       "      <td>0.0</td>\n",
       "      <td>0.0</td>\n",
       "      <td>3.0</td>\n",
       "      <td>...</td>\n",
       "      <td>1.0</td>\n",
       "      <td>196.0</td>\n",
       "      <td>2.0</td>\n",
       "      <td>0.0</td>\n",
       "      <td>0.0</td>\n",
       "      <td>0.0</td>\n",
       "      <td>0.0</td>\n",
       "      <td>0.0</td>\n",
       "      <td>legitimate</td>\n",
       "      <td>0.0030340133234858513</td>\n",
       "    </tr>\n",
       "    <tr>\n",
       "      <th>2</th>\n",
       "      <td>https://get4click.ru/</td>\n",
       "      <td>12.0</td>\n",
       "      <td>0.0</td>\n",
       "      <td>1.0</td>\n",
       "      <td>0.0</td>\n",
       "      <td>0.0</td>\n",
       "      <td>0.0</td>\n",
       "      <td>0.0</td>\n",
       "      <td>0.0</td>\n",
       "      <td>3.0</td>\n",
       "      <td>...</td>\n",
       "      <td>0.0</td>\n",
       "      <td>47.0</td>\n",
       "      <td>1.0</td>\n",
       "      <td>0.0</td>\n",
       "      <td>1.0</td>\n",
       "      <td>0.0</td>\n",
       "      <td>1.0</td>\n",
       "      <td>0.0</td>\n",
       "      <td>legitimate</td>\n",
       "      <td>0.34836170077323914</td>\n",
       "    </tr>\n",
       "    <tr>\n",
       "      <th>3</th>\n",
       "      <td>https://www.iovox.com/</td>\n",
       "      <td>13.0</td>\n",
       "      <td>0.0</td>\n",
       "      <td>2.0</td>\n",
       "      <td>0.0</td>\n",
       "      <td>0.0</td>\n",
       "      <td>0.0</td>\n",
       "      <td>0.0</td>\n",
       "      <td>0.0</td>\n",
       "      <td>3.0</td>\n",
       "      <td>...</td>\n",
       "      <td>0.0</td>\n",
       "      <td>108.0</td>\n",
       "      <td>3.0</td>\n",
       "      <td>0.0</td>\n",
       "      <td>0.0</td>\n",
       "      <td>0.0</td>\n",
       "      <td>1.0</td>\n",
       "      <td>0.0</td>\n",
       "      <td>legitimate</td>\n",
       "      <td>0.046591758728027344</td>\n",
       "    </tr>\n",
       "    <tr>\n",
       "      <th>4</th>\n",
       "      <td>https://www.bergfex.at/</td>\n",
       "      <td>14.0</td>\n",
       "      <td>0.0</td>\n",
       "      <td>2.0</td>\n",
       "      <td>0.0</td>\n",
       "      <td>0.0</td>\n",
       "      <td>0.0</td>\n",
       "      <td>0.0</td>\n",
       "      <td>0.0</td>\n",
       "      <td>3.0</td>\n",
       "      <td>...</td>\n",
       "      <td>0.0</td>\n",
       "      <td>265.0</td>\n",
       "      <td>11.0</td>\n",
       "      <td>0.0</td>\n",
       "      <td>0.0</td>\n",
       "      <td>0.0</td>\n",
       "      <td>0.0</td>\n",
       "      <td>0.0</td>\n",
       "      <td>legitimate</td>\n",
       "      <td>0.00636637257412076</td>\n",
       "    </tr>\n",
       "    <tr>\n",
       "      <th>...</th>\n",
       "      <td>...</td>\n",
       "      <td>...</td>\n",
       "      <td>...</td>\n",
       "      <td>...</td>\n",
       "      <td>...</td>\n",
       "      <td>...</td>\n",
       "      <td>...</td>\n",
       "      <td>...</td>\n",
       "      <td>...</td>\n",
       "      <td>...</td>\n",
       "      <td>...</td>\n",
       "      <td>...</td>\n",
       "      <td>...</td>\n",
       "      <td>...</td>\n",
       "      <td>...</td>\n",
       "      <td>...</td>\n",
       "      <td>...</td>\n",
       "      <td>...</td>\n",
       "      <td>...</td>\n",
       "      <td>...</td>\n",
       "      <td>...</td>\n",
       "    </tr>\n",
       "    <tr>\n",
       "      <th>80818</th>\n",
       "      <td>http://webmailadmin0.myfreesites.net/</td>\n",
       "      <td>29.0</td>\n",
       "      <td>0.0</td>\n",
       "      <td>2.0</td>\n",
       "      <td>0.0</td>\n",
       "      <td>0.0</td>\n",
       "      <td>0.0</td>\n",
       "      <td>0.0</td>\n",
       "      <td>0.0</td>\n",
       "      <td>3.0</td>\n",
       "      <td>...</td>\n",
       "      <td>1.0</td>\n",
       "      <td>14.0</td>\n",
       "      <td>0.0</td>\n",
       "      <td>0.0</td>\n",
       "      <td>0.0</td>\n",
       "      <td>0.0</td>\n",
       "      <td>0.0</td>\n",
       "      <td>0.0</td>\n",
       "      <td>phishing</td>\n",
       "      <td>NaN</td>\n",
       "    </tr>\n",
       "    <tr>\n",
       "      <th>80819</th>\n",
       "      <td>http://www.ezblox.site/free/jennifer111/helpdesk</td>\n",
       "      <td>15.0</td>\n",
       "      <td>0.0</td>\n",
       "      <td>2.0</td>\n",
       "      <td>0.0</td>\n",
       "      <td>0.0</td>\n",
       "      <td>0.0</td>\n",
       "      <td>0.0</td>\n",
       "      <td>0.0</td>\n",
       "      <td>5.0</td>\n",
       "      <td>...</td>\n",
       "      <td>1.0</td>\n",
       "      <td>16.0</td>\n",
       "      <td>0.0</td>\n",
       "      <td>0.0</td>\n",
       "      <td>0.0</td>\n",
       "      <td>0.0</td>\n",
       "      <td>0.0</td>\n",
       "      <td>0.0</td>\n",
       "      <td>phishing</td>\n",
       "      <td>NaN</td>\n",
       "    </tr>\n",
       "    <tr>\n",
       "      <th>80820</th>\n",
       "      <td>http://www.formbuddy.com/cgi-bin/formdisp.pl?u...</td>\n",
       "      <td>17.0</td>\n",
       "      <td>0.0</td>\n",
       "      <td>3.0</td>\n",
       "      <td>1.0</td>\n",
       "      <td>0.0</td>\n",
       "      <td>1.0</td>\n",
       "      <td>2.0</td>\n",
       "      <td>0.0</td>\n",
       "      <td>4.0</td>\n",
       "      <td>...</td>\n",
       "      <td>0.0</td>\n",
       "      <td>1.0</td>\n",
       "      <td>0.0</td>\n",
       "      <td>0.0</td>\n",
       "      <td>0.0</td>\n",
       "      <td>0.0</td>\n",
       "      <td>0.0</td>\n",
       "      <td>0.0</td>\n",
       "      <td>phishing</td>\n",
       "      <td>NaN</td>\n",
       "    </tr>\n",
       "    <tr>\n",
       "      <th>80821</th>\n",
       "      <td>http://www.habbocreditosparati.blogspot.com/</td>\n",
       "      <td>36.0</td>\n",
       "      <td>0.0</td>\n",
       "      <td>3.0</td>\n",
       "      <td>0.0</td>\n",
       "      <td>0.0</td>\n",
       "      <td>0.0</td>\n",
       "      <td>0.0</td>\n",
       "      <td>0.0</td>\n",
       "      <td>3.0</td>\n",
       "      <td>...</td>\n",
       "      <td>1.0</td>\n",
       "      <td>26.0</td>\n",
       "      <td>1.0</td>\n",
       "      <td>0.0</td>\n",
       "      <td>0.0</td>\n",
       "      <td>0.0</td>\n",
       "      <td>1.0</td>\n",
       "      <td>0.0</td>\n",
       "      <td>phishing</td>\n",
       "      <td>NaN</td>\n",
       "    </tr>\n",
       "    <tr>\n",
       "      <th>80822</th>\n",
       "      <td>http://creditiperhabbogratissicuro100.blogspot...</td>\n",
       "      <td>43.0</td>\n",
       "      <td>0.0</td>\n",
       "      <td>3.0</td>\n",
       "      <td>4.0</td>\n",
       "      <td>0.0</td>\n",
       "      <td>0.0</td>\n",
       "      <td>0.0</td>\n",
       "      <td>0.0</td>\n",
       "      <td>5.0</td>\n",
       "      <td>...</td>\n",
       "      <td>0.0</td>\n",
       "      <td>32.0</td>\n",
       "      <td>3.0</td>\n",
       "      <td>0.0</td>\n",
       "      <td>0.0</td>\n",
       "      <td>0.0</td>\n",
       "      <td>0.0</td>\n",
       "      <td>0.0</td>\n",
       "      <td>phishing</td>\n",
       "      <td>NaN</td>\n",
       "    </tr>\n",
       "  </tbody>\n",
       "</table>\n",
       "<p>80823 rows × 35 columns</p>\n",
       "</div>"
      ]
     },
     "execution_count": 32,
     "metadata": {},
     "output_type": "execute_result"
    }
   ],
   "execution_count": 32
  },
  {
   "metadata": {
    "ExecuteTime": {
     "end_time": "2025-05-17T13:41:57.889188Z",
     "start_time": "2025-05-17T13:41:57.878001Z"
    }
   },
   "cell_type": "code",
   "source": "df['status'] = df['status'].map({\"legitimate\": 0, \"phishing\": 1})",
   "id": "c0001ee4eace7ceb",
   "outputs": [],
   "execution_count": 34
  },
  {
   "metadata": {
    "ExecuteTime": {
     "end_time": "2025-05-17T13:41:58.997212Z",
     "start_time": "2025-05-17T13:41:58.990175Z"
    }
   },
   "cell_type": "code",
   "source": [
    "# convert url_bert_classification to float with silent errors\n",
    "df['url_bert_classification'] = pd.to_numeric(df['url_bert_classification'], errors='coerce')"
   ],
   "id": "a145ce10a1a9a4d4",
   "outputs": [],
   "execution_count": 35
  },
  {
   "metadata": {
    "ExecuteTime": {
     "end_time": "2025-05-17T13:42:02.541934Z",
     "start_time": "2025-05-17T13:42:02.504987Z"
    }
   },
   "cell_type": "code",
   "source": [
    "# remove rows with non-numeric values in url_bert_classification\n",
    "df = df[df['url_bert_classification'].notna()]"
   ],
   "id": "7f99ddb99a5d937c",
   "outputs": [],
   "execution_count": 36
  },
  {
   "metadata": {
    "ExecuteTime": {
     "end_time": "2025-05-17T13:42:05.487262Z",
     "start_time": "2025-05-17T13:42:05.477002Z"
    }
   },
   "cell_type": "code",
   "source": [
    "print(df[df[\"status\"] == 0].shape)\n",
    "print(df[df[\"status\"] == 1].shape)"
   ],
   "id": "f010d4dd8a62fdf6",
   "outputs": [
    {
     "name": "stdout",
     "output_type": "stream",
     "text": [
      "(20202, 35)\n",
      "(40334, 35)\n"
     ]
    }
   ],
   "execution_count": 37
  },
  {
   "metadata": {
    "ExecuteTime": {
     "end_time": "2025-05-17T13:42:08.890701Z",
     "start_time": "2025-05-17T13:42:08.854229Z"
    }
   },
   "cell_type": "code",
   "source": [
    "df_legit = df[df['status'] == 0]\n",
    "df_phishing = df[df['status'] == 1].sample(n=len(df_legit) // 3, random_state=42)"
   ],
   "id": "f76cd890d9dae86e",
   "outputs": [],
   "execution_count": 38
  },
  {
   "metadata": {
    "ExecuteTime": {
     "end_time": "2025-05-17T13:42:12.031754Z",
     "start_time": "2025-05-17T13:42:12.022563Z"
    }
   },
   "cell_type": "code",
   "source": "df = pd.concat([df_legit, df_phishing])",
   "id": "e3b7b824169b43a1",
   "outputs": [],
   "execution_count": 39
  },
  {
   "metadata": {
    "ExecuteTime": {
     "end_time": "2025-05-17T13:42:16.443526Z",
     "start_time": "2025-05-17T13:42:16.368070Z"
    }
   },
   "cell_type": "code",
   "source": "corr = df.corr()",
   "id": "69923047ca8e63d7",
   "outputs": [
    {
     "name": "stderr",
     "output_type": "stream",
     "text": [
      "/var/folders/02/q__yg7mx1cn27p_3747mry900000gn/T/ipykernel_19194/361440739.py:1: FutureWarning: The default value of numeric_only in DataFrame.corr is deprecated. In a future version, it will default to False. Select only valid columns or specify the value of numeric_only to silence this warning.\n",
      "  corr = df.corr()\n"
     ]
    }
   ],
   "execution_count": 40
  },
  {
   "metadata": {
    "ExecuteTime": {
     "end_time": "2025-05-17T13:42:19.484780Z",
     "start_time": "2025-05-17T13:42:19.478512Z"
    }
   },
   "cell_type": "code",
   "source": "corr[\"status\"].sort_values(ascending=False)",
   "id": "3791b37a8066e181",
   "outputs": [
    {
     "data": {
      "text/plain": [
       "status                     1.000000\n",
       "url_bert_classification    0.791174\n",
       "prefix_suffix              0.443140\n",
       "ratio_digits_host          0.332810\n",
       "length_hostname            0.276582\n",
       "phish_hints                0.247354\n",
       "empty_title                0.246290\n",
       "shortening_service         0.154767\n",
       "domain_in_title            0.093028\n",
       "login_form                 0.091833\n",
       "suspicious_js_patterns     0.080412\n",
       "external_favicon           0.074727\n",
       "ratio_extHyperlinks        0.047504\n",
       "longest_words_raw          0.042537\n",
       "nb_at                      0.018024\n",
       "ratio_digits_url           0.011291\n",
       "ip                         0.010554\n",
       "shortest_word_path        -0.005251\n",
       "nb_qm                     -0.024255\n",
       "nb_eq                     -0.030974\n",
       "nb_dots                   -0.042966\n",
       "domain_with_copyright     -0.067485\n",
       "nb_underscore             -0.077794\n",
       "safe_anchor               -0.079972\n",
       "domain_in_brand           -0.109779\n",
       "links_in_tags             -0.166525\n",
       "nb_hyperlinks             -0.196447\n",
       "longest_word_path         -0.205393\n",
       "external_brand_logo       -0.222581\n",
       "length_words_raw          -0.287543\n",
       "nb_hyphens                -0.295202\n",
       "nb_slash                  -0.311861\n",
       "nb_www                    -0.505542\n",
       "suspecious_tld                  NaN\n",
       "Name: status, dtype: float64"
      ]
     },
     "execution_count": 41,
     "metadata": {},
     "output_type": "execute_result"
    }
   ],
   "execution_count": 41
  },
  {
   "metadata": {
    "ExecuteTime": {
     "end_time": "2025-05-17T13:42:53.004426Z",
     "start_time": "2025-05-17T13:42:52.997582Z"
    }
   },
   "cell_type": "code",
   "source": "df.drop([\"status\", \"url\"], axis=1).columns",
   "id": "bd110ed072be444d",
   "outputs": [
    {
     "data": {
      "text/plain": [
       "Index(['length_hostname', 'ip', 'nb_dots', 'nb_hyphens', 'nb_at', 'nb_qm',\n",
       "       'nb_eq', 'nb_underscore', 'nb_slash', 'nb_www', 'ratio_digits_url',\n",
       "       'ratio_digits_host', 'prefix_suffix', 'shortening_service',\n",
       "       'length_words_raw', 'shortest_word_path', 'longest_words_raw',\n",
       "       'longest_word_path', 'phish_hints', 'domain_in_brand', 'suspecious_tld',\n",
       "       'nb_hyperlinks', 'ratio_extHyperlinks', 'login_form',\n",
       "       'external_favicon', 'links_in_tags', 'safe_anchor', 'empty_title',\n",
       "       'domain_in_title', 'domain_with_copyright', 'external_brand_logo',\n",
       "       'suspicious_js_patterns', 'url_bert_classification'],\n",
       "      dtype='object')"
      ]
     },
     "execution_count": 42,
     "metadata": {},
     "output_type": "execute_result"
    }
   ],
   "execution_count": 42
  },
  {
   "metadata": {
    "ExecuteTime": {
     "end_time": "2025-05-17T13:42:58.318381Z",
     "start_time": "2025-05-17T13:42:57.540753Z"
    }
   },
   "cell_type": "code",
   "source": [
    "from sklearn.model_selection import train_test_split\n",
    "\n",
    "X = df.drop([\"status\", \"url\"], axis=1)\n",
    "# remove features with small correselation with status\n",
    "X.columns = [f'f{i}' for i in range(X.shape[1])]\n",
    "y = df[\"status\"]\n",
    "\n",
    "X_train, X_test, y_train, y_test = train_test_split(\n",
    "    X, y, test_size=0.2, random_state=42\n",
    ")"
   ],
   "id": "5a82d34e5bf8418a",
   "outputs": [],
   "execution_count": 43
  },
  {
   "metadata": {
    "ExecuteTime": {
     "end_time": "2025-05-17T13:44:34.359123Z",
     "start_time": "2025-05-17T13:43:16.254188Z"
    }
   },
   "cell_type": "code",
   "source": [
    "from sklearn.model_selection import GridSearchCV\n",
    "from sklearn.ensemble import RandomForestClassifier, AdaBoostClassifier\n",
    "from xgboost import XGBClassifier\n",
    "\n",
    "# Hyperparameter grids\n",
    "rf_param_grid = {\n",
    "    'n_estimators': [50, 100, 200],\n",
    "    'max_depth': [None, 10, 20],\n",
    "}\n",
    "\n",
    "adb_param_grid = {\n",
    "    'n_estimators': [50, 100, 150],\n",
    "    'learning_rate': [0.01, 0.1, 1],\n",
    "}\n",
    "\n",
    "xgb_param_grid = {\n",
    "    'n_estimators': [50, 100, 200],\n",
    "    'max_depth': [3, 5, 7],\n",
    "    'learning_rate': [0.01, 0.1, 0.2],\n",
    "}\n",
    "\n",
    "# Grid search\n",
    "rf_search = GridSearchCV(RandomForestClassifier(random_state=42), rf_param_grid, cv=3, scoring='accuracy')\n",
    "adb_search = GridSearchCV(AdaBoostClassifier(random_state=42), adb_param_grid, cv=3, scoring='accuracy')\n",
    "xgb_search = GridSearchCV(XGBClassifier(eval_metric='logloss', random_state=42),\n",
    "                          xgb_param_grid, cv=3, scoring='accuracy')\n",
    "\n",
    "# Fit models\n",
    "rf_search.fit(X_train, y_train)\n",
    "adb_search.fit(X_train, y_train)\n",
    "xgb_search.fit(X_train, y_train)\n",
    "\n",
    "# Best models\n",
    "best_rf = rf_search.best_estimator_\n",
    "best_adb = adb_search.best_estimator_\n",
    "best_xgb = xgb_search.best_estimator_\n",
    "\n",
    "print(\"Best RF params:\", rf_search.best_params_)\n",
    "print(\"Best AdaBoost params:\", adb_search.best_params_)\n",
    "print(\"Best XGBoost params:\", xgb_search.best_params_)"
   ],
   "id": "800530f54cb0c617",
   "outputs": [
    {
     "name": "stdout",
     "output_type": "stream",
     "text": [
      "Best RF params: {'max_depth': 20, 'n_estimators': 100}\n",
      "Best AdaBoost params: {'learning_rate': 1, 'n_estimators': 150}\n",
      "Best XGBoost params: {'learning_rate': 0.2, 'max_depth': 5, 'n_estimators': 200}\n"
     ]
    }
   ],
   "execution_count": 44
  },
  {
   "metadata": {},
   "cell_type": "markdown",
   "source": "We chose to keep going with XGBoost for the reasons in the paper.",
   "id": "eb20668cc1214d2d"
  },
  {
   "metadata": {
    "ExecuteTime": {
     "end_time": "2025-05-17T13:44:35.746852Z",
     "start_time": "2025-05-17T13:44:35.730240Z"
    }
   },
   "cell_type": "code",
   "source": [
    "from sklearn.metrics import classification_report\n",
    "\n",
    "y_pred = best_xgb.predict(X_test)\n",
    "print(classification_report(y_test, y_pred))"
   ],
   "id": "1c88f43bb514d700",
   "outputs": [
    {
     "name": "stdout",
     "output_type": "stream",
     "text": [
      "              precision    recall  f1-score   support\n",
      "\n",
      "           0       0.99      0.99      0.99      4051\n",
      "           1       0.98      0.96      0.97      1337\n",
      "\n",
      "    accuracy                           0.98      5388\n",
      "   macro avg       0.98      0.97      0.98      5388\n",
      "weighted avg       0.98      0.98      0.98      5388\n",
      "\n"
     ]
    }
   ],
   "execution_count": 47
  },
  {
   "metadata": {
    "ExecuteTime": {
     "end_time": "2025-05-17T13:44:35.117106Z",
     "start_time": "2025-05-17T13:44:34.478470Z"
    }
   },
   "cell_type": "code",
   "source": [
    "from skl2onnx import update_registered_converter\n",
    "import numpy\n",
    "from sklearn.datasets import load_iris, load_diabetes, make_classification\n",
    "from sklearn.model_selection import train_test_split\n",
    "from sklearn.pipeline import Pipeline\n",
    "from sklearn.preprocessing import StandardScaler\n",
    "from xgboost import XGBClassifier, XGBRegressor, DMatrix, train as train_xgb\n",
    "from skl2onnx.common.data_types import FloatTensorType\n",
    "from skl2onnx import convert_sklearn, to_onnx, update_registered_converter\n",
    "from skl2onnx.common.shape_calculator import (\n",
    "    calculate_linear_classifier_output_shapes,\n",
    "    calculate_linear_regressor_output_shapes,\n",
    ")\n",
    "from onnxmltools.convert.xgboost.operator_converters.XGBoost import convert_xgboost\n",
    "from onnxmltools.convert import convert_xgboost as convert_xgboost_booster\n",
    "\n",
    "update_registered_converter(\n",
    "    XGBClassifier,\n",
    "    \"XGBoostXGBClassifier\",\n",
    "    calculate_linear_classifier_output_shapes,\n",
    "    convert_xgboost,\n",
    "    options={\"nocl\": [True, False], \"zipmap\": [True, False, \"columns\"]},\n",
    ")"
   ],
   "id": "558b10a1b866507c",
   "outputs": [],
   "execution_count": 45
  },
  {
   "metadata": {
    "ExecuteTime": {
     "end_time": "2025-05-17T13:44:35.328537Z",
     "start_time": "2025-05-17T13:44:35.120881Z"
    }
   },
   "cell_type": "code",
   "source": [
    "model_onnx = convert_sklearn(\n",
    "    best_xgb,\n",
    "    \"pipeline_xgboost\",\n",
    "    [(\"input\", FloatTensorType([None, 33]))],\n",
    "    target_opset={\"\": 12, \"ai.onnx.ml\": 2},\n",
    "    options={'zipmap': False}\n",
    ")\n",
    "\n",
    "# And save.\n",
    "with open(\"xgb.onnx\", \"wb\") as f:\n",
    "    f.write(model_onnx.SerializeToString())"
   ],
   "id": "2afcf7594641b124",
   "outputs": [],
   "execution_count": 46
  }
 ],
 "metadata": {
  "kernelspec": {
   "display_name": "Python 3",
   "language": "python",
   "name": "python3"
  },
  "language_info": {
   "codemirror_mode": {
    "name": "ipython",
    "version": 2
   },
   "file_extension": ".py",
   "mimetype": "text/x-python",
   "name": "python",
   "nbconvert_exporter": "python",
   "pygments_lexer": "ipython2",
   "version": "2.7.6"
  }
 },
 "nbformat": 4,
 "nbformat_minor": 5
}
